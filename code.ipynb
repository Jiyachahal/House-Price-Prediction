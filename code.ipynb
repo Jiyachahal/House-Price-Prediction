{
 "cells": [
  {
   "cell_type": "markdown",
   "id": "1b3377f2",
   "metadata": {},
   "source": [
    "# EDA "
   ]
  },
  {
   "cell_type": "markdown",
   "id": "6d83cbe4",
   "metadata": {},
   "source": [
    "### importing libraries/modules"
   ]
  },
  {
   "cell_type": "code",
   "execution_count": 5,
   "id": "839a0078",
   "metadata": {},
   "outputs": [
    {
     "name": "stdout",
     "output_type": "stream",
     "text": [
      "Requirement already satisfied: xgboost in c:\\users\\weite\\anaconda3\\lib\\site-packages (2.1.1)\n",
      "Requirement already satisfied: numpy in c:\\users\\weite\\anaconda3\\lib\\site-packages (from xgboost) (1.26.4)\n",
      "Requirement already satisfied: scipy in c:\\users\\weite\\anaconda3\\lib\\site-packages (from xgboost) (1.11.4)\n"
     ]
    }
   ],
   "source": [
    "!pip install xgboost"
   ]
  },
  {
   "cell_type": "code",
   "execution_count": 52,
   "id": "7528ab75",
   "metadata": {},
   "outputs": [],
   "source": [
    "import numpy as np\n",
    "import pandas as pd\n",
    "import matplotlib.pyplot as plt\n",
    "import seaborn as sns\n",
    "\n",
    "import sklearn\n",
    "from sklearn.model_selection import train_test_split\n",
    "from sklearn.linear_model import LinearRegression\n",
    "from sklearn.tree import DecisionTreeRegressor\n",
    "from sklearn.ensemble import GradientBoostingRegressor\n",
    "from sklearn.metrics import mean_squared_error, mean_absolute_error, r2_score\n",
    "\n",
    "import xgboost\n",
    "from xgboost import XGBRegressor\n",
    "\n",
    "\n",
    "import warnings\n",
    "warnings.filterwarnings('ignore')"
   ]
  },
  {
   "cell_type": "markdown",
   "id": "49f093c6",
   "metadata": {},
   "source": [
    "### loading dataset "
   ]
  },
  {
   "cell_type": "code",
   "execution_count": 53,
   "id": "68455d0a",
   "metadata": {},
   "outputs": [
    {
     "data": {
      "text/html": [
       "<div>\n",
       "<style scoped>\n",
       "    .dataframe tbody tr th:only-of-type {\n",
       "        vertical-align: middle;\n",
       "    }\n",
       "\n",
       "    .dataframe tbody tr th {\n",
       "        vertical-align: top;\n",
       "    }\n",
       "\n",
       "    .dataframe thead th {\n",
       "        text-align: right;\n",
       "    }\n",
       "</style>\n",
       "<table border=\"1\" class=\"dataframe\">\n",
       "  <thead>\n",
       "    <tr style=\"text-align: right;\">\n",
       "      <th></th>\n",
       "      <th>Avg. Area Income</th>\n",
       "      <th>Avg. Area House Age</th>\n",
       "      <th>Avg. Area Number of Rooms</th>\n",
       "      <th>Avg. Area Number of Bedrooms</th>\n",
       "      <th>Area Population</th>\n",
       "      <th>Price</th>\n",
       "      <th>Address</th>\n",
       "    </tr>\n",
       "  </thead>\n",
       "  <tbody>\n",
       "    <tr>\n",
       "      <th>0</th>\n",
       "      <td>79545.458574</td>\n",
       "      <td>5.682861</td>\n",
       "      <td>7.009188</td>\n",
       "      <td>4.09</td>\n",
       "      <td>23086.800503</td>\n",
       "      <td>1.059034e+06</td>\n",
       "      <td>208 Michael Ferry Apt. 674\\nLaurabury, NE 3701...</td>\n",
       "    </tr>\n",
       "    <tr>\n",
       "      <th>1</th>\n",
       "      <td>79248.642455</td>\n",
       "      <td>6.002900</td>\n",
       "      <td>6.730821</td>\n",
       "      <td>3.09</td>\n",
       "      <td>40173.072174</td>\n",
       "      <td>1.505891e+06</td>\n",
       "      <td>188 Johnson Views Suite 079\\nLake Kathleen, CA...</td>\n",
       "    </tr>\n",
       "    <tr>\n",
       "      <th>2</th>\n",
       "      <td>61287.067179</td>\n",
       "      <td>5.865890</td>\n",
       "      <td>8.512727</td>\n",
       "      <td>5.13</td>\n",
       "      <td>36882.159400</td>\n",
       "      <td>1.058988e+06</td>\n",
       "      <td>9127 Elizabeth Stravenue\\nDanieltown, WI 06482...</td>\n",
       "    </tr>\n",
       "    <tr>\n",
       "      <th>3</th>\n",
       "      <td>63345.240046</td>\n",
       "      <td>7.188236</td>\n",
       "      <td>5.586729</td>\n",
       "      <td>3.26</td>\n",
       "      <td>34310.242831</td>\n",
       "      <td>1.260617e+06</td>\n",
       "      <td>USS Barnett\\nFPO AP 44820</td>\n",
       "    </tr>\n",
       "    <tr>\n",
       "      <th>4</th>\n",
       "      <td>59982.197226</td>\n",
       "      <td>5.040555</td>\n",
       "      <td>7.839388</td>\n",
       "      <td>4.23</td>\n",
       "      <td>26354.109472</td>\n",
       "      <td>6.309435e+05</td>\n",
       "      <td>USNS Raymond\\nFPO AE 09386</td>\n",
       "    </tr>\n",
       "    <tr>\n",
       "      <th>...</th>\n",
       "      <td>...</td>\n",
       "      <td>...</td>\n",
       "      <td>...</td>\n",
       "      <td>...</td>\n",
       "      <td>...</td>\n",
       "      <td>...</td>\n",
       "      <td>...</td>\n",
       "    </tr>\n",
       "    <tr>\n",
       "      <th>4995</th>\n",
       "      <td>60567.944140</td>\n",
       "      <td>7.830362</td>\n",
       "      <td>6.137356</td>\n",
       "      <td>3.46</td>\n",
       "      <td>22837.361035</td>\n",
       "      <td>1.060194e+06</td>\n",
       "      <td>USNS Williams\\nFPO AP 30153-7653</td>\n",
       "    </tr>\n",
       "    <tr>\n",
       "      <th>4996</th>\n",
       "      <td>78491.275435</td>\n",
       "      <td>6.999135</td>\n",
       "      <td>6.576763</td>\n",
       "      <td>4.02</td>\n",
       "      <td>25616.115489</td>\n",
       "      <td>1.482618e+06</td>\n",
       "      <td>PSC 9258, Box 8489\\nAPO AA 42991-3352</td>\n",
       "    </tr>\n",
       "    <tr>\n",
       "      <th>4997</th>\n",
       "      <td>63390.686886</td>\n",
       "      <td>7.250591</td>\n",
       "      <td>4.805081</td>\n",
       "      <td>2.13</td>\n",
       "      <td>33266.145490</td>\n",
       "      <td>1.030730e+06</td>\n",
       "      <td>4215 Tracy Garden Suite 076\\nJoshualand, VA 01...</td>\n",
       "    </tr>\n",
       "    <tr>\n",
       "      <th>4998</th>\n",
       "      <td>68001.331235</td>\n",
       "      <td>5.534388</td>\n",
       "      <td>7.130144</td>\n",
       "      <td>5.44</td>\n",
       "      <td>42625.620156</td>\n",
       "      <td>1.198657e+06</td>\n",
       "      <td>USS Wallace\\nFPO AE 73316</td>\n",
       "    </tr>\n",
       "    <tr>\n",
       "      <th>4999</th>\n",
       "      <td>65510.581804</td>\n",
       "      <td>5.992305</td>\n",
       "      <td>6.792336</td>\n",
       "      <td>4.07</td>\n",
       "      <td>46501.283803</td>\n",
       "      <td>1.298950e+06</td>\n",
       "      <td>37778 George Ridges Apt. 509\\nEast Holly, NV 2...</td>\n",
       "    </tr>\n",
       "  </tbody>\n",
       "</table>\n",
       "<p>5000 rows × 7 columns</p>\n",
       "</div>"
      ],
      "text/plain": [
       "      Avg. Area Income  Avg. Area House Age  Avg. Area Number of Rooms  \\\n",
       "0         79545.458574             5.682861                   7.009188   \n",
       "1         79248.642455             6.002900                   6.730821   \n",
       "2         61287.067179             5.865890                   8.512727   \n",
       "3         63345.240046             7.188236                   5.586729   \n",
       "4         59982.197226             5.040555                   7.839388   \n",
       "...                ...                  ...                        ...   \n",
       "4995      60567.944140             7.830362                   6.137356   \n",
       "4996      78491.275435             6.999135                   6.576763   \n",
       "4997      63390.686886             7.250591                   4.805081   \n",
       "4998      68001.331235             5.534388                   7.130144   \n",
       "4999      65510.581804             5.992305                   6.792336   \n",
       "\n",
       "      Avg. Area Number of Bedrooms  Area Population         Price  \\\n",
       "0                             4.09     23086.800503  1.059034e+06   \n",
       "1                             3.09     40173.072174  1.505891e+06   \n",
       "2                             5.13     36882.159400  1.058988e+06   \n",
       "3                             3.26     34310.242831  1.260617e+06   \n",
       "4                             4.23     26354.109472  6.309435e+05   \n",
       "...                            ...              ...           ...   \n",
       "4995                          3.46     22837.361035  1.060194e+06   \n",
       "4996                          4.02     25616.115489  1.482618e+06   \n",
       "4997                          2.13     33266.145490  1.030730e+06   \n",
       "4998                          5.44     42625.620156  1.198657e+06   \n",
       "4999                          4.07     46501.283803  1.298950e+06   \n",
       "\n",
       "                                                Address  \n",
       "0     208 Michael Ferry Apt. 674\\nLaurabury, NE 3701...  \n",
       "1     188 Johnson Views Suite 079\\nLake Kathleen, CA...  \n",
       "2     9127 Elizabeth Stravenue\\nDanieltown, WI 06482...  \n",
       "3                             USS Barnett\\nFPO AP 44820  \n",
       "4                            USNS Raymond\\nFPO AE 09386  \n",
       "...                                                 ...  \n",
       "4995                   USNS Williams\\nFPO AP 30153-7653  \n",
       "4996              PSC 9258, Box 8489\\nAPO AA 42991-3352  \n",
       "4997  4215 Tracy Garden Suite 076\\nJoshualand, VA 01...  \n",
       "4998                          USS Wallace\\nFPO AE 73316  \n",
       "4999  37778 George Ridges Apt. 509\\nEast Holly, NV 2...  \n",
       "\n",
       "[5000 rows x 7 columns]"
      ]
     },
     "execution_count": 53,
     "metadata": {},
     "output_type": "execute_result"
    }
   ],
   "source": [
    "df = pd.read_csv('USA_Housing.csv')\n",
    "df"
   ]
  },
  {
   "cell_type": "code",
   "execution_count": 54,
   "id": "34acb44e",
   "metadata": {},
   "outputs": [
    {
     "data": {
      "text/plain": [
       "(5000, 7)"
      ]
     },
     "execution_count": 54,
     "metadata": {},
     "output_type": "execute_result"
    }
   ],
   "source": [
    "df.shape"
   ]
  },
  {
   "cell_type": "code",
   "execution_count": 55,
   "id": "e73cdba8",
   "metadata": {},
   "outputs": [
    {
     "data": {
      "text/html": [
       "<div>\n",
       "<style scoped>\n",
       "    .dataframe tbody tr th:only-of-type {\n",
       "        vertical-align: middle;\n",
       "    }\n",
       "\n",
       "    .dataframe tbody tr th {\n",
       "        vertical-align: top;\n",
       "    }\n",
       "\n",
       "    .dataframe thead th {\n",
       "        text-align: right;\n",
       "    }\n",
       "</style>\n",
       "<table border=\"1\" class=\"dataframe\">\n",
       "  <thead>\n",
       "    <tr style=\"text-align: right;\">\n",
       "      <th></th>\n",
       "      <th>Avg. Area Income</th>\n",
       "      <th>Avg. Area House Age</th>\n",
       "      <th>Avg. Area Number of Rooms</th>\n",
       "      <th>Avg. Area Number of Bedrooms</th>\n",
       "      <th>Area Population</th>\n",
       "      <th>Price</th>\n",
       "      <th>Address</th>\n",
       "    </tr>\n",
       "  </thead>\n",
       "  <tbody>\n",
       "    <tr>\n",
       "      <th>4990</th>\n",
       "      <td>52723.876555</td>\n",
       "      <td>5.452237</td>\n",
       "      <td>8.124571</td>\n",
       "      <td>6.39</td>\n",
       "      <td>14802.088438</td>\n",
       "      <td>4.795006e+05</td>\n",
       "      <td>86727 Kelly Plaza\\nLake Veronica, IL 04474</td>\n",
       "    </tr>\n",
       "    <tr>\n",
       "      <th>4991</th>\n",
       "      <td>74102.191890</td>\n",
       "      <td>5.657841</td>\n",
       "      <td>7.683993</td>\n",
       "      <td>3.13</td>\n",
       "      <td>24041.270592</td>\n",
       "      <td>1.263721e+06</td>\n",
       "      <td>2871 John Lodge\\nAmychester, GU 61734-5597</td>\n",
       "    </tr>\n",
       "    <tr>\n",
       "      <th>4992</th>\n",
       "      <td>87499.125743</td>\n",
       "      <td>6.403473</td>\n",
       "      <td>4.836091</td>\n",
       "      <td>4.02</td>\n",
       "      <td>40815.199679</td>\n",
       "      <td>1.568701e+06</td>\n",
       "      <td>Unit 2096 Box 9559\\nDPO AE 80983-8797</td>\n",
       "    </tr>\n",
       "    <tr>\n",
       "      <th>4993</th>\n",
       "      <td>69639.140896</td>\n",
       "      <td>5.007510</td>\n",
       "      <td>7.778375</td>\n",
       "      <td>6.05</td>\n",
       "      <td>54056.128430</td>\n",
       "      <td>1.381831e+06</td>\n",
       "      <td>5259 David Causeway Apt. 975\\nSouth Alexstad, ...</td>\n",
       "    </tr>\n",
       "    <tr>\n",
       "      <th>4994</th>\n",
       "      <td>73060.846226</td>\n",
       "      <td>5.293682</td>\n",
       "      <td>6.312253</td>\n",
       "      <td>4.16</td>\n",
       "      <td>22695.695480</td>\n",
       "      <td>9.053549e+05</td>\n",
       "      <td>5224 Lamb Passage\\nNancystad, GA 16579</td>\n",
       "    </tr>\n",
       "    <tr>\n",
       "      <th>4995</th>\n",
       "      <td>60567.944140</td>\n",
       "      <td>7.830362</td>\n",
       "      <td>6.137356</td>\n",
       "      <td>3.46</td>\n",
       "      <td>22837.361035</td>\n",
       "      <td>1.060194e+06</td>\n",
       "      <td>USNS Williams\\nFPO AP 30153-7653</td>\n",
       "    </tr>\n",
       "    <tr>\n",
       "      <th>4996</th>\n",
       "      <td>78491.275435</td>\n",
       "      <td>6.999135</td>\n",
       "      <td>6.576763</td>\n",
       "      <td>4.02</td>\n",
       "      <td>25616.115489</td>\n",
       "      <td>1.482618e+06</td>\n",
       "      <td>PSC 9258, Box 8489\\nAPO AA 42991-3352</td>\n",
       "    </tr>\n",
       "    <tr>\n",
       "      <th>4997</th>\n",
       "      <td>63390.686886</td>\n",
       "      <td>7.250591</td>\n",
       "      <td>4.805081</td>\n",
       "      <td>2.13</td>\n",
       "      <td>33266.145490</td>\n",
       "      <td>1.030730e+06</td>\n",
       "      <td>4215 Tracy Garden Suite 076\\nJoshualand, VA 01...</td>\n",
       "    </tr>\n",
       "    <tr>\n",
       "      <th>4998</th>\n",
       "      <td>68001.331235</td>\n",
       "      <td>5.534388</td>\n",
       "      <td>7.130144</td>\n",
       "      <td>5.44</td>\n",
       "      <td>42625.620156</td>\n",
       "      <td>1.198657e+06</td>\n",
       "      <td>USS Wallace\\nFPO AE 73316</td>\n",
       "    </tr>\n",
       "    <tr>\n",
       "      <th>4999</th>\n",
       "      <td>65510.581804</td>\n",
       "      <td>5.992305</td>\n",
       "      <td>6.792336</td>\n",
       "      <td>4.07</td>\n",
       "      <td>46501.283803</td>\n",
       "      <td>1.298950e+06</td>\n",
       "      <td>37778 George Ridges Apt. 509\\nEast Holly, NV 2...</td>\n",
       "    </tr>\n",
       "  </tbody>\n",
       "</table>\n",
       "</div>"
      ],
      "text/plain": [
       "      Avg. Area Income  Avg. Area House Age  Avg. Area Number of Rooms  \\\n",
       "4990      52723.876555             5.452237                   8.124571   \n",
       "4991      74102.191890             5.657841                   7.683993   \n",
       "4992      87499.125743             6.403473                   4.836091   \n",
       "4993      69639.140896             5.007510                   7.778375   \n",
       "4994      73060.846226             5.293682                   6.312253   \n",
       "4995      60567.944140             7.830362                   6.137356   \n",
       "4996      78491.275435             6.999135                   6.576763   \n",
       "4997      63390.686886             7.250591                   4.805081   \n",
       "4998      68001.331235             5.534388                   7.130144   \n",
       "4999      65510.581804             5.992305                   6.792336   \n",
       "\n",
       "      Avg. Area Number of Bedrooms  Area Population         Price  \\\n",
       "4990                          6.39     14802.088438  4.795006e+05   \n",
       "4991                          3.13     24041.270592  1.263721e+06   \n",
       "4992                          4.02     40815.199679  1.568701e+06   \n",
       "4993                          6.05     54056.128430  1.381831e+06   \n",
       "4994                          4.16     22695.695480  9.053549e+05   \n",
       "4995                          3.46     22837.361035  1.060194e+06   \n",
       "4996                          4.02     25616.115489  1.482618e+06   \n",
       "4997                          2.13     33266.145490  1.030730e+06   \n",
       "4998                          5.44     42625.620156  1.198657e+06   \n",
       "4999                          4.07     46501.283803  1.298950e+06   \n",
       "\n",
       "                                                Address  \n",
       "4990         86727 Kelly Plaza\\nLake Veronica, IL 04474  \n",
       "4991         2871 John Lodge\\nAmychester, GU 61734-5597  \n",
       "4992              Unit 2096 Box 9559\\nDPO AE 80983-8797  \n",
       "4993  5259 David Causeway Apt. 975\\nSouth Alexstad, ...  \n",
       "4994             5224 Lamb Passage\\nNancystad, GA 16579  \n",
       "4995                   USNS Williams\\nFPO AP 30153-7653  \n",
       "4996              PSC 9258, Box 8489\\nAPO AA 42991-3352  \n",
       "4997  4215 Tracy Garden Suite 076\\nJoshualand, VA 01...  \n",
       "4998                          USS Wallace\\nFPO AE 73316  \n",
       "4999  37778 George Ridges Apt. 509\\nEast Holly, NV 2...  "
      ]
     },
     "execution_count": 55,
     "metadata": {},
     "output_type": "execute_result"
    }
   ],
   "source": [
    "df.tail(10)"
   ]
  },
  {
   "cell_type": "code",
   "execution_count": 56,
   "id": "a5b36166",
   "metadata": {},
   "outputs": [
    {
     "data": {
      "text/html": [
       "<div>\n",
       "<style scoped>\n",
       "    .dataframe tbody tr th:only-of-type {\n",
       "        vertical-align: middle;\n",
       "    }\n",
       "\n",
       "    .dataframe tbody tr th {\n",
       "        vertical-align: top;\n",
       "    }\n",
       "\n",
       "    .dataframe thead th {\n",
       "        text-align: right;\n",
       "    }\n",
       "</style>\n",
       "<table border=\"1\" class=\"dataframe\">\n",
       "  <thead>\n",
       "    <tr style=\"text-align: right;\">\n",
       "      <th></th>\n",
       "      <th>Avg. Area Income</th>\n",
       "      <th>Avg. Area House Age</th>\n",
       "      <th>Avg. Area Number of Rooms</th>\n",
       "      <th>Avg. Area Number of Bedrooms</th>\n",
       "      <th>Area Population</th>\n",
       "      <th>Price</th>\n",
       "      <th>Address</th>\n",
       "    </tr>\n",
       "  </thead>\n",
       "  <tbody>\n",
       "    <tr>\n",
       "      <th>0</th>\n",
       "      <td>79545.458574</td>\n",
       "      <td>5.682861</td>\n",
       "      <td>7.009188</td>\n",
       "      <td>4.09</td>\n",
       "      <td>23086.800503</td>\n",
       "      <td>1.059034e+06</td>\n",
       "      <td>208 Michael Ferry Apt. 674\\nLaurabury, NE 3701...</td>\n",
       "    </tr>\n",
       "    <tr>\n",
       "      <th>1</th>\n",
       "      <td>79248.642455</td>\n",
       "      <td>6.002900</td>\n",
       "      <td>6.730821</td>\n",
       "      <td>3.09</td>\n",
       "      <td>40173.072174</td>\n",
       "      <td>1.505891e+06</td>\n",
       "      <td>188 Johnson Views Suite 079\\nLake Kathleen, CA...</td>\n",
       "    </tr>\n",
       "    <tr>\n",
       "      <th>2</th>\n",
       "      <td>61287.067179</td>\n",
       "      <td>5.865890</td>\n",
       "      <td>8.512727</td>\n",
       "      <td>5.13</td>\n",
       "      <td>36882.159400</td>\n",
       "      <td>1.058988e+06</td>\n",
       "      <td>9127 Elizabeth Stravenue\\nDanieltown, WI 06482...</td>\n",
       "    </tr>\n",
       "    <tr>\n",
       "      <th>3</th>\n",
       "      <td>63345.240046</td>\n",
       "      <td>7.188236</td>\n",
       "      <td>5.586729</td>\n",
       "      <td>3.26</td>\n",
       "      <td>34310.242831</td>\n",
       "      <td>1.260617e+06</td>\n",
       "      <td>USS Barnett\\nFPO AP 44820</td>\n",
       "    </tr>\n",
       "    <tr>\n",
       "      <th>4</th>\n",
       "      <td>59982.197226</td>\n",
       "      <td>5.040555</td>\n",
       "      <td>7.839388</td>\n",
       "      <td>4.23</td>\n",
       "      <td>26354.109472</td>\n",
       "      <td>6.309435e+05</td>\n",
       "      <td>USNS Raymond\\nFPO AE 09386</td>\n",
       "    </tr>\n",
       "  </tbody>\n",
       "</table>\n",
       "</div>"
      ],
      "text/plain": [
       "   Avg. Area Income  Avg. Area House Age  Avg. Area Number of Rooms  \\\n",
       "0      79545.458574             5.682861                   7.009188   \n",
       "1      79248.642455             6.002900                   6.730821   \n",
       "2      61287.067179             5.865890                   8.512727   \n",
       "3      63345.240046             7.188236                   5.586729   \n",
       "4      59982.197226             5.040555                   7.839388   \n",
       "\n",
       "   Avg. Area Number of Bedrooms  Area Population         Price  \\\n",
       "0                          4.09     23086.800503  1.059034e+06   \n",
       "1                          3.09     40173.072174  1.505891e+06   \n",
       "2                          5.13     36882.159400  1.058988e+06   \n",
       "3                          3.26     34310.242831  1.260617e+06   \n",
       "4                          4.23     26354.109472  6.309435e+05   \n",
       "\n",
       "                                             Address  \n",
       "0  208 Michael Ferry Apt. 674\\nLaurabury, NE 3701...  \n",
       "1  188 Johnson Views Suite 079\\nLake Kathleen, CA...  \n",
       "2  9127 Elizabeth Stravenue\\nDanieltown, WI 06482...  \n",
       "3                          USS Barnett\\nFPO AP 44820  \n",
       "4                         USNS Raymond\\nFPO AE 09386  "
      ]
     },
     "execution_count": 56,
     "metadata": {},
     "output_type": "execute_result"
    }
   ],
   "source": [
    "df.head()"
   ]
  },
  {
   "cell_type": "code",
   "execution_count": 57,
   "id": "71ee181c",
   "metadata": {},
   "outputs": [
    {
     "name": "stdout",
     "output_type": "stream",
     "text": [
      "<class 'pandas.core.frame.DataFrame'>\n",
      "RangeIndex: 5000 entries, 0 to 4999\n",
      "Data columns (total 7 columns):\n",
      " #   Column                        Non-Null Count  Dtype  \n",
      "---  ------                        --------------  -----  \n",
      " 0   Avg. Area Income              5000 non-null   float64\n",
      " 1   Avg. Area House Age           5000 non-null   float64\n",
      " 2   Avg. Area Number of Rooms     5000 non-null   float64\n",
      " 3   Avg. Area Number of Bedrooms  5000 non-null   float64\n",
      " 4   Area Population               5000 non-null   float64\n",
      " 5   Price                         5000 non-null   float64\n",
      " 6   Address                       5000 non-null   object \n",
      "dtypes: float64(6), object(1)\n",
      "memory usage: 273.6+ KB\n"
     ]
    }
   ],
   "source": [
    "df.info()"
   ]
  },
  {
   "cell_type": "code",
   "execution_count": 58,
   "id": "592e840d",
   "metadata": {},
   "outputs": [
    {
     "data": {
      "text/plain": [
       "Index(['Avg. Area Income', 'Avg. Area House Age', 'Avg. Area Number of Rooms',\n",
       "       'Avg. Area Number of Bedrooms', 'Area Population', 'Price', 'Address'],\n",
       "      dtype='object')"
      ]
     },
     "execution_count": 58,
     "metadata": {},
     "output_type": "execute_result"
    }
   ],
   "source": [
    "df.columns"
   ]
  },
  {
   "cell_type": "code",
   "execution_count": 59,
   "id": "ac871522",
   "metadata": {},
   "outputs": [
    {
     "data": {
      "text/html": [
       "<div>\n",
       "<style scoped>\n",
       "    .dataframe tbody tr th:only-of-type {\n",
       "        vertical-align: middle;\n",
       "    }\n",
       "\n",
       "    .dataframe tbody tr th {\n",
       "        vertical-align: top;\n",
       "    }\n",
       "\n",
       "    .dataframe thead th {\n",
       "        text-align: right;\n",
       "    }\n",
       "</style>\n",
       "<table border=\"1\" class=\"dataframe\">\n",
       "  <thead>\n",
       "    <tr style=\"text-align: right;\">\n",
       "      <th></th>\n",
       "      <th>Avg. Area Income</th>\n",
       "      <th>Avg. Area House Age</th>\n",
       "      <th>Avg. Area Number of Rooms</th>\n",
       "      <th>Avg. Area Number of Bedrooms</th>\n",
       "      <th>Area Population</th>\n",
       "      <th>Price</th>\n",
       "    </tr>\n",
       "  </thead>\n",
       "  <tbody>\n",
       "    <tr>\n",
       "      <th>count</th>\n",
       "      <td>5000.000000</td>\n",
       "      <td>5000.000000</td>\n",
       "      <td>5000.000000</td>\n",
       "      <td>5000.000000</td>\n",
       "      <td>5000.000000</td>\n",
       "      <td>5.000000e+03</td>\n",
       "    </tr>\n",
       "    <tr>\n",
       "      <th>mean</th>\n",
       "      <td>68583.108984</td>\n",
       "      <td>5.977222</td>\n",
       "      <td>6.987792</td>\n",
       "      <td>3.981330</td>\n",
       "      <td>36163.516039</td>\n",
       "      <td>1.232073e+06</td>\n",
       "    </tr>\n",
       "    <tr>\n",
       "      <th>std</th>\n",
       "      <td>10657.991214</td>\n",
       "      <td>0.991456</td>\n",
       "      <td>1.005833</td>\n",
       "      <td>1.234137</td>\n",
       "      <td>9925.650114</td>\n",
       "      <td>3.531176e+05</td>\n",
       "    </tr>\n",
       "    <tr>\n",
       "      <th>min</th>\n",
       "      <td>17796.631190</td>\n",
       "      <td>2.644304</td>\n",
       "      <td>3.236194</td>\n",
       "      <td>2.000000</td>\n",
       "      <td>172.610686</td>\n",
       "      <td>1.593866e+04</td>\n",
       "    </tr>\n",
       "    <tr>\n",
       "      <th>25%</th>\n",
       "      <td>61480.562388</td>\n",
       "      <td>5.322283</td>\n",
       "      <td>6.299250</td>\n",
       "      <td>3.140000</td>\n",
       "      <td>29403.928702</td>\n",
       "      <td>9.975771e+05</td>\n",
       "    </tr>\n",
       "    <tr>\n",
       "      <th>50%</th>\n",
       "      <td>68804.286404</td>\n",
       "      <td>5.970429</td>\n",
       "      <td>7.002902</td>\n",
       "      <td>4.050000</td>\n",
       "      <td>36199.406689</td>\n",
       "      <td>1.232669e+06</td>\n",
       "    </tr>\n",
       "    <tr>\n",
       "      <th>75%</th>\n",
       "      <td>75783.338666</td>\n",
       "      <td>6.650808</td>\n",
       "      <td>7.665871</td>\n",
       "      <td>4.490000</td>\n",
       "      <td>42861.290769</td>\n",
       "      <td>1.471210e+06</td>\n",
       "    </tr>\n",
       "    <tr>\n",
       "      <th>max</th>\n",
       "      <td>107701.748378</td>\n",
       "      <td>9.519088</td>\n",
       "      <td>10.759588</td>\n",
       "      <td>6.500000</td>\n",
       "      <td>69621.713378</td>\n",
       "      <td>2.469066e+06</td>\n",
       "    </tr>\n",
       "  </tbody>\n",
       "</table>\n",
       "</div>"
      ],
      "text/plain": [
       "       Avg. Area Income  Avg. Area House Age  Avg. Area Number of Rooms  \\\n",
       "count       5000.000000          5000.000000                5000.000000   \n",
       "mean       68583.108984             5.977222                   6.987792   \n",
       "std        10657.991214             0.991456                   1.005833   \n",
       "min        17796.631190             2.644304                   3.236194   \n",
       "25%        61480.562388             5.322283                   6.299250   \n",
       "50%        68804.286404             5.970429                   7.002902   \n",
       "75%        75783.338666             6.650808                   7.665871   \n",
       "max       107701.748378             9.519088                  10.759588   \n",
       "\n",
       "       Avg. Area Number of Bedrooms  Area Population         Price  \n",
       "count                   5000.000000      5000.000000  5.000000e+03  \n",
       "mean                       3.981330     36163.516039  1.232073e+06  \n",
       "std                        1.234137      9925.650114  3.531176e+05  \n",
       "min                        2.000000       172.610686  1.593866e+04  \n",
       "25%                        3.140000     29403.928702  9.975771e+05  \n",
       "50%                        4.050000     36199.406689  1.232669e+06  \n",
       "75%                        4.490000     42861.290769  1.471210e+06  \n",
       "max                        6.500000     69621.713378  2.469066e+06  "
      ]
     },
     "execution_count": 59,
     "metadata": {},
     "output_type": "execute_result"
    }
   ],
   "source": [
    "df.describe()"
   ]
  },
  {
   "cell_type": "code",
   "execution_count": 60,
   "id": "f78260cc",
   "metadata": {},
   "outputs": [
    {
     "data": {
      "text/plain": [
       "Avg. Area Income                5000\n",
       "Avg. Area House Age             5000\n",
       "Avg. Area Number of Rooms       5000\n",
       "Avg. Area Number of Bedrooms     255\n",
       "Area Population                 5000\n",
       "Price                           5000\n",
       "Address                         5000\n",
       "dtype: int64"
      ]
     },
     "execution_count": 60,
     "metadata": {},
     "output_type": "execute_result"
    }
   ],
   "source": [
    "df.nunique()"
   ]
  },
  {
   "cell_type": "code",
   "execution_count": 61,
   "id": "30d263da",
   "metadata": {},
   "outputs": [
    {
     "data": {
      "text/plain": [
       "0       79545.458574\n",
       "1       79248.642455\n",
       "2       61287.067179\n",
       "3       63345.240046\n",
       "4       59982.197226\n",
       "            ...     \n",
       "4995    60567.944140\n",
       "4996    78491.275435\n",
       "4997    63390.686886\n",
       "4998    68001.331235\n",
       "4999    65510.581804\n",
       "Name: Avg. Area Income, Length: 5000, dtype: float64"
      ]
     },
     "execution_count": 61,
     "metadata": {},
     "output_type": "execute_result"
    }
   ],
   "source": [
    "df['Avg. Area Income']"
   ]
  },
  {
   "cell_type": "markdown",
   "id": "127f2138",
   "metadata": {},
   "source": [
    "# handling missig data "
   ]
  },
  {
   "cell_type": "code",
   "execution_count": 62,
   "id": "62f13057",
   "metadata": {},
   "outputs": [
    {
     "data": {
      "text/plain": [
       "Avg. Area Income                0\n",
       "Avg. Area House Age             0\n",
       "Avg. Area Number of Rooms       0\n",
       "Avg. Area Number of Bedrooms    0\n",
       "Area Population                 0\n",
       "Price                           0\n",
       "Address                         0\n",
       "dtype: int64"
      ]
     },
     "execution_count": 62,
     "metadata": {},
     "output_type": "execute_result"
    }
   ],
   "source": [
    "df.isnull().sum()"
   ]
  },
  {
   "cell_type": "code",
   "execution_count": 63,
   "id": "071ad1a8",
   "metadata": {},
   "outputs": [
    {
     "data": {
      "text/plain": [
       "-0.03371997540427538"
      ]
     },
     "execution_count": 63,
     "metadata": {},
     "output_type": "execute_result"
    }
   ],
   "source": [
    "df['Avg. Area Income'].skew()"
   ]
  },
  {
   "cell_type": "code",
   "execution_count": 64,
   "id": "de59e357",
   "metadata": {},
   "outputs": [
    {
     "data": {
      "image/png": "[encoded data removed]",
      "text/plain": [
       "<Figure size 640x480 with 1 Axes>"
      ]
     },
     "metadata": {},
     "output_type": "display_data"
    }
   ],
   "source": [
    "sns.distplot(df['Avg. Area Income'], label=df['Avg. Area Income'].skew(),\n",
    "             color='pink')\n",
    "plt.legend()\n",
    "plt.show()"
   ]
  },
  {
   "cell_type": "code",
   "execution_count": 65,
   "id": "e195e4b8",
   "metadata": {},
   "outputs": [
    {
     "name": "stdout",
     "output_type": "stream",
     "text": [
      "68583.10898395974\n",
      "68804.28640371616\n"
     ]
    }
   ],
   "source": [
    "print(df['Avg. Area Income'].mean())\n",
    "print(df['Avg. Area Income'].median())\n",
    "df['Avg. Area Income'].fillna(df['Avg. Area Income'].mean(), inplace=True)"
   ]
  },
  {
   "cell_type": "code",
   "execution_count": 66,
   "id": "0bc1a393",
   "metadata": {},
   "outputs": [
    {
     "data": {
      "text/plain": [
       "Avg. Area Income                0\n",
       "Avg. Area House Age             0\n",
       "Avg. Area Number of Rooms       0\n",
       "Avg. Area Number of Bedrooms    0\n",
       "Area Population                 0\n",
       "Price                           0\n",
       "Address                         0\n",
       "dtype: int64"
      ]
     },
     "execution_count": 66,
     "metadata": {},
     "output_type": "execute_result"
    }
   ],
   "source": [
    "df.isnull().sum()"
   ]
  },
  {
   "cell_type": "markdown",
   "id": "48aa620e",
   "metadata": {},
   "source": [
    "# duplicate data "
   ]
  },
  {
   "cell_type": "code",
   "execution_count": 67,
   "id": "a2b9df51",
   "metadata": {},
   "outputs": [
    {
     "name": "stdout",
     "output_type": "stream",
     "text": [
      "0\n"
     ]
    },
    {
     "data": {
      "text/html": [
       "<div>\n",
       "<style scoped>\n",
       "    .dataframe tbody tr th:only-of-type {\n",
       "        vertical-align: middle;\n",
       "    }\n",
       "\n",
       "    .dataframe tbody tr th {\n",
       "        vertical-align: top;\n",
       "    }\n",
       "\n",
       "    .dataframe thead th {\n",
       "        text-align: right;\n",
       "    }\n",
       "</style>\n",
       "<table border=\"1\" class=\"dataframe\">\n",
       "  <thead>\n",
       "    <tr style=\"text-align: right;\">\n",
       "      <th></th>\n",
       "      <th>Avg. Area Income</th>\n",
       "      <th>Avg. Area House Age</th>\n",
       "      <th>Avg. Area Number of Rooms</th>\n",
       "      <th>Avg. Area Number of Bedrooms</th>\n",
       "      <th>Area Population</th>\n",
       "      <th>Price</th>\n",
       "      <th>Address</th>\n",
       "    </tr>\n",
       "  </thead>\n",
       "  <tbody>\n",
       "  </tbody>\n",
       "</table>\n",
       "</div>"
      ],
      "text/plain": [
       "Empty DataFrame\n",
       "Columns: [Avg. Area Income, Avg. Area House Age, Avg. Area Number of Rooms, Avg. Area Number of Bedrooms, Area Population, Price, Address]\n",
       "Index: []"
      ]
     },
     "execution_count": 67,
     "metadata": {},
     "output_type": "execute_result"
    }
   ],
   "source": [
    "print(df.duplicated().sum())\n",
    "df[df.duplicated()]"
   ]
  },
  {
   "cell_type": "code",
   "execution_count": 68,
   "id": "78587fee",
   "metadata": {},
   "outputs": [],
   "source": [
    "df.drop_duplicates(keep='first', inplace=True)\n"
   ]
  },
  {
   "cell_type": "markdown",
   "id": "3759bfff",
   "metadata": {},
   "source": [
    "# outliers "
   ]
  },
  {
   "cell_type": "code",
   "execution_count": 69,
   "id": "778372d3",
   "metadata": {},
   "outputs": [
    {
     "data": {
      "image/png": "[encoded data removed]",
      "text/plain": [
       "<Figure size 640x480 with 1 Axes>"
      ]
     },
     "metadata": {},
     "output_type": "display_data"
    }
   ],
   "source": [
    "sns.boxplot(df,color='pink')\n",
    "plt.xticks(rotation=40)\n",
    "plt.grid()\n",
    "plt.show()"
   ]
  },
  {
   "cell_type": "code",
   "execution_count": 70,
   "id": "e84d4ddf",
   "metadata": {},
   "outputs": [
    {
     "data": {
      "image/png": "[encoded data removed]",
      "text/plain": [
       "<Figure size 640x480 with 1 Axes>"
      ]
     },
     "metadata": {},
     "output_type": "display_data"
    }
   ],
   "source": [
    "sns.boxplot(df['Avg. Area Income'],color='pink')\n",
    "plt.title('Avg Area Income')\n",
    "plt.grid()\n",
    "plt.show()"
   ]
  },
  {
   "cell_type": "code",
   "execution_count": 71,
   "id": "37a8a2d1",
   "metadata": {},
   "outputs": [
    {
     "data": {
      "text/html": [
       "<div>\n",
       "<style scoped>\n",
       "    .dataframe tbody tr th:only-of-type {\n",
       "        vertical-align: middle;\n",
       "    }\n",
       "\n",
       "    .dataframe tbody tr th {\n",
       "        vertical-align: top;\n",
       "    }\n",
       "\n",
       "    .dataframe thead th {\n",
       "        text-align: right;\n",
       "    }\n",
       "</style>\n",
       "<table border=\"1\" class=\"dataframe\">\n",
       "  <thead>\n",
       "    <tr style=\"text-align: right;\">\n",
       "      <th></th>\n",
       "      <th>Avg. Area Income</th>\n",
       "      <th>Avg. Area House Age</th>\n",
       "      <th>Avg. Area Number of Rooms</th>\n",
       "      <th>Avg. Area Number of Bedrooms</th>\n",
       "      <th>Area Population</th>\n",
       "      <th>Price</th>\n",
       "      <th>Address</th>\n",
       "    </tr>\n",
       "  </thead>\n",
       "  <tbody>\n",
       "    <tr>\n",
       "      <th>428</th>\n",
       "      <td>97112.361252</td>\n",
       "      <td>5.914725</td>\n",
       "      <td>6.133646</td>\n",
       "      <td>3.10</td>\n",
       "      <td>51470.067638</td>\n",
       "      <td>1.917584e+06</td>\n",
       "      <td>35841 Christine Shore\\nWallmouth, NC 98956-5357</td>\n",
       "    </tr>\n",
       "    <tr>\n",
       "      <th>558</th>\n",
       "      <td>99629.013581</td>\n",
       "      <td>5.431863</td>\n",
       "      <td>7.351398</td>\n",
       "      <td>5.45</td>\n",
       "      <td>36950.739057</td>\n",
       "      <td>1.883481e+06</td>\n",
       "      <td>PSC 0420, Box 6835\\nAPO AE 08359</td>\n",
       "    </tr>\n",
       "    <tr>\n",
       "      <th>693</th>\n",
       "      <td>107701.748378</td>\n",
       "      <td>7.143522</td>\n",
       "      <td>8.518608</td>\n",
       "      <td>3.29</td>\n",
       "      <td>37619.439929</td>\n",
       "      <td>2.332111e+06</td>\n",
       "      <td>41017 Eric Village\\nJonathanport, CO 37205</td>\n",
       "    </tr>\n",
       "    <tr>\n",
       "      <th>962</th>\n",
       "      <td>101928.858060</td>\n",
       "      <td>4.829586</td>\n",
       "      <td>9.039382</td>\n",
       "      <td>4.08</td>\n",
       "      <td>22804.991935</td>\n",
       "      <td>1.938866e+06</td>\n",
       "      <td>856 Harris Centers Suite 940\\nNicholasport, IL...</td>\n",
       "    </tr>\n",
       "    <tr>\n",
       "      <th>1096</th>\n",
       "      <td>97548.310413</td>\n",
       "      <td>5.460973</td>\n",
       "      <td>6.609396</td>\n",
       "      <td>2.50</td>\n",
       "      <td>39089.415712</td>\n",
       "      <td>2.026303e+06</td>\n",
       "      <td>349 Sean Forges\\nWhitakerville, WY 85138-4153</td>\n",
       "    </tr>\n",
       "    <tr>\n",
       "      <th>1734</th>\n",
       "      <td>104702.724257</td>\n",
       "      <td>5.575523</td>\n",
       "      <td>6.932106</td>\n",
       "      <td>3.22</td>\n",
       "      <td>22560.527135</td>\n",
       "      <td>1.742432e+06</td>\n",
       "      <td>14230 Douglas River Suite 570\\nConniechester, ...</td>\n",
       "    </tr>\n",
       "    <tr>\n",
       "      <th>1891</th>\n",
       "      <td>101144.323930</td>\n",
       "      <td>6.350845</td>\n",
       "      <td>7.231771</td>\n",
       "      <td>3.09</td>\n",
       "      <td>35772.524007</td>\n",
       "      <td>2.007556e+06</td>\n",
       "      <td>233 Wilson Ranch Suite 086\\nWest Christine, IN...</td>\n",
       "    </tr>\n",
       "    <tr>\n",
       "      <th>2300</th>\n",
       "      <td>98468.253641</td>\n",
       "      <td>7.035383</td>\n",
       "      <td>6.629233</td>\n",
       "      <td>3.05</td>\n",
       "      <td>50676.312404</td>\n",
       "      <td>2.275455e+06</td>\n",
       "      <td>USNV Hoffman\\nFPO AA 45311-5701</td>\n",
       "    </tr>\n",
       "    <tr>\n",
       "      <th>2719</th>\n",
       "      <td>101599.670580</td>\n",
       "      <td>7.798746</td>\n",
       "      <td>7.480512</td>\n",
       "      <td>6.39</td>\n",
       "      <td>37523.864670</td>\n",
       "      <td>2.370231e+06</td>\n",
       "      <td>52280 Steven Street\\nRobertchester, IA 40405-0504</td>\n",
       "    </tr>\n",
       "    <tr>\n",
       "      <th>3483</th>\n",
       "      <td>97881.587279</td>\n",
       "      <td>5.034395</td>\n",
       "      <td>7.575905</td>\n",
       "      <td>5.46</td>\n",
       "      <td>37152.799341</td>\n",
       "      <td>1.859161e+06</td>\n",
       "      <td>01230 Peter Loop Suite 135\\nEdwardstad, SC 67538</td>\n",
       "    </tr>\n",
       "    <tr>\n",
       "      <th>3541</th>\n",
       "      <td>102881.120902</td>\n",
       "      <td>6.471249</td>\n",
       "      <td>5.693536</td>\n",
       "      <td>3.12</td>\n",
       "      <td>21051.531294</td>\n",
       "      <td>1.754938e+06</td>\n",
       "      <td>784 Arnold Prairie Apt. 787\\nJamesside, NM 04270</td>\n",
       "    </tr>\n",
       "    <tr>\n",
       "      <th>3798</th>\n",
       "      <td>97669.064491</td>\n",
       "      <td>6.888763</td>\n",
       "      <td>6.739379</td>\n",
       "      <td>4.14</td>\n",
       "      <td>43203.271060</td>\n",
       "      <td>2.102244e+06</td>\n",
       "      <td>0646 Martin Pass\\nKimberlyberg, GU 73453</td>\n",
       "    </tr>\n",
       "    <tr>\n",
       "      <th>3947</th>\n",
       "      <td>97076.164503</td>\n",
       "      <td>5.960820</td>\n",
       "      <td>6.606164</td>\n",
       "      <td>2.46</td>\n",
       "      <td>39915.656778</td>\n",
       "      <td>1.969194e+06</td>\n",
       "      <td>20831 Heather Common Suite 998\\nLake Elizabeth...</td>\n",
       "    </tr>\n",
       "    <tr>\n",
       "      <th>4087</th>\n",
       "      <td>100741.298585</td>\n",
       "      <td>5.870726</td>\n",
       "      <td>6.644853</td>\n",
       "      <td>4.33</td>\n",
       "      <td>26041.487616</td>\n",
       "      <td>1.644923e+06</td>\n",
       "      <td>5155 Virginia Station\\nFischerberg, PA 75078-8129</td>\n",
       "    </tr>\n",
       "    <tr>\n",
       "      <th>4400</th>\n",
       "      <td>99317.823145</td>\n",
       "      <td>5.495861</td>\n",
       "      <td>7.182721</td>\n",
       "      <td>6.03</td>\n",
       "      <td>50350.352292</td>\n",
       "      <td>2.219724e+06</td>\n",
       "      <td>87549 Garcia Path\\nSolomonside, ID 72003</td>\n",
       "    </tr>\n",
       "  </tbody>\n",
       "</table>\n",
       "</div>"
      ],
      "text/plain": [
       "      Avg. Area Income  Avg. Area House Age  Avg. Area Number of Rooms  \\\n",
       "428       97112.361252             5.914725                   6.133646   \n",
       "558       99629.013581             5.431863                   7.351398   \n",
       "693      107701.748378             7.143522                   8.518608   \n",
       "962      101928.858060             4.829586                   9.039382   \n",
       "1096      97548.310413             5.460973                   6.609396   \n",
       "1734     104702.724257             5.575523                   6.932106   \n",
       "1891     101144.323930             6.350845                   7.231771   \n",
       "2300      98468.253641             7.035383                   6.629233   \n",
       "2719     101599.670580             7.798746                   7.480512   \n",
       "3483      97881.587279             5.034395                   7.575905   \n",
       "3541     102881.120902             6.471249                   5.693536   \n",
       "3798      97669.064491             6.888763                   6.739379   \n",
       "3947      97076.164503             5.960820                   6.606164   \n",
       "4087     100741.298585             5.870726                   6.644853   \n",
       "4400      99317.823145             5.495861                   7.182721   \n",
       "\n",
       "      Avg. Area Number of Bedrooms  Area Population         Price  \\\n",
       "428                           3.10     51470.067638  1.917584e+06   \n",
       "558                           5.45     36950.739057  1.883481e+06   \n",
       "693                           3.29     37619.439929  2.332111e+06   \n",
       "962                           4.08     22804.991935  1.938866e+06   \n",
       "1096                          2.50     39089.415712  2.026303e+06   \n",
       "1734                          3.22     22560.527135  1.742432e+06   \n",
       "1891                          3.09     35772.524007  2.007556e+06   \n",
       "2300                          3.05     50676.312404  2.275455e+06   \n",
       "2719                          6.39     37523.864670  2.370231e+06   \n",
       "3483                          5.46     37152.799341  1.859161e+06   \n",
       "3541                          3.12     21051.531294  1.754938e+06   \n",
       "3798                          4.14     43203.271060  2.102244e+06   \n",
       "3947                          2.46     39915.656778  1.969194e+06   \n",
       "4087                          4.33     26041.487616  1.644923e+06   \n",
       "4400                          6.03     50350.352292  2.219724e+06   \n",
       "\n",
       "                                                Address  \n",
       "428     35841 Christine Shore\\nWallmouth, NC 98956-5357  \n",
       "558                    PSC 0420, Box 6835\\nAPO AE 08359  \n",
       "693          41017 Eric Village\\nJonathanport, CO 37205  \n",
       "962   856 Harris Centers Suite 940\\nNicholasport, IL...  \n",
       "1096      349 Sean Forges\\nWhitakerville, WY 85138-4153  \n",
       "1734  14230 Douglas River Suite 570\\nConniechester, ...  \n",
       "1891  233 Wilson Ranch Suite 086\\nWest Christine, IN...  \n",
       "2300                    USNV Hoffman\\nFPO AA 45311-5701  \n",
       "2719  52280 Steven Street\\nRobertchester, IA 40405-0504  \n",
       "3483   01230 Peter Loop Suite 135\\nEdwardstad, SC 67538  \n",
       "3541   784 Arnold Prairie Apt. 787\\nJamesside, NM 04270  \n",
       "3798           0646 Martin Pass\\nKimberlyberg, GU 73453  \n",
       "3947  20831 Heather Common Suite 998\\nLake Elizabeth...  \n",
       "4087  5155 Virginia Station\\nFischerberg, PA 75078-8129  \n",
       "4400           87549 Garcia Path\\nSolomonside, ID 72003  "
      ]
     },
     "execution_count": 71,
     "metadata": {},
     "output_type": "execute_result"
    }
   ],
   "source": [
    "df[df['Avg. Area Income'] > 97000]\n"
   ]
  },
  {
   "cell_type": "code",
   "execution_count": 72,
   "id": "1127fcb8",
   "metadata": {},
   "outputs": [
    {
     "data": {
      "text/plain": [
       "15"
      ]
     },
     "execution_count": 72,
     "metadata": {},
     "output_type": "execute_result"
    }
   ],
   "source": [
    "len(df[df['Avg. Area Income'] > 97000])"
   ]
  },
  {
   "cell_type": "code",
   "execution_count": 73,
   "id": "3d2059e2",
   "metadata": {},
   "outputs": [
    {
     "data": {
      "text/html": [
       "<div>\n",
       "<style scoped>\n",
       "    .dataframe tbody tr th:only-of-type {\n",
       "        vertical-align: middle;\n",
       "    }\n",
       "\n",
       "    .dataframe tbody tr th {\n",
       "        vertical-align: top;\n",
       "    }\n",
       "\n",
       "    .dataframe thead th {\n",
       "        text-align: right;\n",
       "    }\n",
       "</style>\n",
       "<table border=\"1\" class=\"dataframe\">\n",
       "  <thead>\n",
       "    <tr style=\"text-align: right;\">\n",
       "      <th></th>\n",
       "      <th>Avg. Area Income</th>\n",
       "      <th>Avg. Area House Age</th>\n",
       "      <th>Avg. Area Number of Rooms</th>\n",
       "      <th>Avg. Area Number of Bedrooms</th>\n",
       "      <th>Area Population</th>\n",
       "      <th>Price</th>\n",
       "      <th>Address</th>\n",
       "    </tr>\n",
       "  </thead>\n",
       "  <tbody>\n",
       "    <tr>\n",
       "      <th>12</th>\n",
       "      <td>39033.809237</td>\n",
       "      <td>7.671755</td>\n",
       "      <td>7.250029</td>\n",
       "      <td>3.10</td>\n",
       "      <td>39220.361467</td>\n",
       "      <td>1.042814e+06</td>\n",
       "      <td>209 Natasha Stream Suite 961\\nHuffmanland, NE ...</td>\n",
       "    </tr>\n",
       "    <tr>\n",
       "      <th>39</th>\n",
       "      <td>17796.631190</td>\n",
       "      <td>4.949557</td>\n",
       "      <td>6.713905</td>\n",
       "      <td>2.50</td>\n",
       "      <td>47162.183643</td>\n",
       "      <td>3.023558e+05</td>\n",
       "      <td>9932 Eric Circles\\nLake Martha, WY 34611-6127</td>\n",
       "    </tr>\n",
       "    <tr>\n",
       "      <th>411</th>\n",
       "      <td>36100.444227</td>\n",
       "      <td>5.778489</td>\n",
       "      <td>5.497450</td>\n",
       "      <td>2.29</td>\n",
       "      <td>44901.857338</td>\n",
       "      <td>5.995040e+05</td>\n",
       "      <td>842 Duane Brook Apt. 380\\nMonicaview, AR 01639...</td>\n",
       "    </tr>\n",
       "    <tr>\n",
       "      <th>844</th>\n",
       "      <td>39411.652788</td>\n",
       "      <td>4.385845</td>\n",
       "      <td>7.047435</td>\n",
       "      <td>4.44</td>\n",
       "      <td>45851.398296</td>\n",
       "      <td>5.394834e+05</td>\n",
       "      <td>1085 Michele Glens Apt. 517\\nSergiotown, VT 20367</td>\n",
       "    </tr>\n",
       "    <tr>\n",
       "      <th>1271</th>\n",
       "      <td>37971.207566</td>\n",
       "      <td>4.291224</td>\n",
       "      <td>5.807510</td>\n",
       "      <td>3.24</td>\n",
       "      <td>33267.767728</td>\n",
       "      <td>3.114052e+04</td>\n",
       "      <td>98398 Terrance Pines\\nSouth Joshua, MT 00544-8919</td>\n",
       "    </tr>\n",
       "    <tr>\n",
       "      <th>1459</th>\n",
       "      <td>35963.330809</td>\n",
       "      <td>3.438547</td>\n",
       "      <td>8.264122</td>\n",
       "      <td>3.28</td>\n",
       "      <td>24435.777302</td>\n",
       "      <td>1.430274e+05</td>\n",
       "      <td>166 Terry Grove\\nSouth Michaelhaven, PR 18054</td>\n",
       "    </tr>\n",
       "    <tr>\n",
       "      <th>1597</th>\n",
       "      <td>39294.036523</td>\n",
       "      <td>5.928585</td>\n",
       "      <td>5.960676</td>\n",
       "      <td>4.36</td>\n",
       "      <td>43183.516104</td>\n",
       "      <td>7.811375e+05</td>\n",
       "      <td>829 Bonnie Rue Suite 653\\nYorkville, MP 35797-...</td>\n",
       "    </tr>\n",
       "    <tr>\n",
       "      <th>2025</th>\n",
       "      <td>38139.919045</td>\n",
       "      <td>5.577267</td>\n",
       "      <td>6.348068</td>\n",
       "      <td>2.13</td>\n",
       "      <td>45899.738402</td>\n",
       "      <td>7.237501e+05</td>\n",
       "      <td>2899 Katherine Junction\\nNorth Richardview, SC...</td>\n",
       "    </tr>\n",
       "    <tr>\n",
       "      <th>2092</th>\n",
       "      <td>35608.986237</td>\n",
       "      <td>6.935839</td>\n",
       "      <td>7.827589</td>\n",
       "      <td>6.35</td>\n",
       "      <td>20833.007623</td>\n",
       "      <td>4.493316e+05</td>\n",
       "      <td>652 Stanton Island\\nAdamsview, VA 56957-9960</td>\n",
       "    </tr>\n",
       "    <tr>\n",
       "      <th>2242</th>\n",
       "      <td>38868.250311</td>\n",
       "      <td>6.965104</td>\n",
       "      <td>8.966906</td>\n",
       "      <td>4.22</td>\n",
       "      <td>25432.076773</td>\n",
       "      <td>7.590447e+05</td>\n",
       "      <td>86840 Jonathon Field\\nStevenport, KY 45694-2395</td>\n",
       "    </tr>\n",
       "    <tr>\n",
       "      <th>2597</th>\n",
       "      <td>38734.005216</td>\n",
       "      <td>5.641762</td>\n",
       "      <td>6.297908</td>\n",
       "      <td>2.31</td>\n",
       "      <td>38890.892760</td>\n",
       "      <td>4.011486e+05</td>\n",
       "      <td>4317 Heather Port\\nHicksland, SC 77008-9209</td>\n",
       "    </tr>\n",
       "    <tr>\n",
       "      <th>3069</th>\n",
       "      <td>35454.714659</td>\n",
       "      <td>6.855708</td>\n",
       "      <td>6.018647</td>\n",
       "      <td>4.50</td>\n",
       "      <td>59636.402553</td>\n",
       "      <td>1.077806e+06</td>\n",
       "      <td>Unit 4700 Box 1880\\nDPO AP 18074</td>\n",
       "    </tr>\n",
       "    <tr>\n",
       "      <th>3144</th>\n",
       "      <td>38571.963670</td>\n",
       "      <td>7.425292</td>\n",
       "      <td>5.723009</td>\n",
       "      <td>3.47</td>\n",
       "      <td>47386.793614</td>\n",
       "      <td>9.684116e+05</td>\n",
       "      <td>6613 Cynthia Loop Suite 555\\nLake Heatherstad,...</td>\n",
       "    </tr>\n",
       "    <tr>\n",
       "      <th>3183</th>\n",
       "      <td>38122.524488</td>\n",
       "      <td>6.336109</td>\n",
       "      <td>7.762551</td>\n",
       "      <td>5.12</td>\n",
       "      <td>38067.552184</td>\n",
       "      <td>8.996093e+05</td>\n",
       "      <td>783 Stacey Glen\\nWest Katherineberg, NV 67007-...</td>\n",
       "    </tr>\n",
       "    <tr>\n",
       "      <th>4449</th>\n",
       "      <td>39777.606906</td>\n",
       "      <td>5.804627</td>\n",
       "      <td>7.147719</td>\n",
       "      <td>3.16</td>\n",
       "      <td>38725.424303</td>\n",
       "      <td>6.960145e+05</td>\n",
       "      <td>5231 David Shoals\\nEast Chaseland, MO 54930-5094</td>\n",
       "    </tr>\n",
       "    <tr>\n",
       "      <th>4716</th>\n",
       "      <td>38530.124478</td>\n",
       "      <td>4.265906</td>\n",
       "      <td>8.026969</td>\n",
       "      <td>4.47</td>\n",
       "      <td>67727.229051</td>\n",
       "      <td>1.267987e+06</td>\n",
       "      <td>14763 Jeffrey Islands\\nAmytown, WV 47279-7543</td>\n",
       "    </tr>\n",
       "    <tr>\n",
       "      <th>4744</th>\n",
       "      <td>39653.770031</td>\n",
       "      <td>5.205089</td>\n",
       "      <td>6.951617</td>\n",
       "      <td>2.32</td>\n",
       "      <td>40275.599326</td>\n",
       "      <td>3.959013e+05</td>\n",
       "      <td>58979 Jimmy Place Apt. 907\\nEast Bryanbury, MN...</td>\n",
       "    </tr>\n",
       "    <tr>\n",
       "      <th>4844</th>\n",
       "      <td>37908.675863</td>\n",
       "      <td>6.233813</td>\n",
       "      <td>7.252916</td>\n",
       "      <td>6.07</td>\n",
       "      <td>39632.079786</td>\n",
       "      <td>8.804028e+05</td>\n",
       "      <td>901 Peter Fort Apt. 157\\nTaylorfort, ND 06249-...</td>\n",
       "    </tr>\n",
       "    <tr>\n",
       "      <th>4855</th>\n",
       "      <td>35797.323122</td>\n",
       "      <td>5.544221</td>\n",
       "      <td>7.795138</td>\n",
       "      <td>5.00</td>\n",
       "      <td>24844.200190</td>\n",
       "      <td>2.998630e+05</td>\n",
       "      <td>645 Mary Radial\\nEast Roberto, CA 23652-5430</td>\n",
       "    </tr>\n",
       "  </tbody>\n",
       "</table>\n",
       "</div>"
      ],
      "text/plain": [
       "      Avg. Area Income  Avg. Area House Age  Avg. Area Number of Rooms  \\\n",
       "12        39033.809237             7.671755                   7.250029   \n",
       "39        17796.631190             4.949557                   6.713905   \n",
       "411       36100.444227             5.778489                   5.497450   \n",
       "844       39411.652788             4.385845                   7.047435   \n",
       "1271      37971.207566             4.291224                   5.807510   \n",
       "1459      35963.330809             3.438547                   8.264122   \n",
       "1597      39294.036523             5.928585                   5.960676   \n",
       "2025      38139.919045             5.577267                   6.348068   \n",
       "2092      35608.986237             6.935839                   7.827589   \n",
       "2242      38868.250311             6.965104                   8.966906   \n",
       "2597      38734.005216             5.641762                   6.297908   \n",
       "3069      35454.714659             6.855708                   6.018647   \n",
       "3144      38571.963670             7.425292                   5.723009   \n",
       "3183      38122.524488             6.336109                   7.762551   \n",
       "4449      39777.606906             5.804627                   7.147719   \n",
       "4716      38530.124478             4.265906                   8.026969   \n",
       "4744      39653.770031             5.205089                   6.951617   \n",
       "4844      37908.675863             6.233813                   7.252916   \n",
       "4855      35797.323122             5.544221                   7.795138   \n",
       "\n",
       "      Avg. Area Number of Bedrooms  Area Population         Price  \\\n",
       "12                            3.10     39220.361467  1.042814e+06   \n",
       "39                            2.50     47162.183643  3.023558e+05   \n",
       "411                           2.29     44901.857338  5.995040e+05   \n",
       "844                           4.44     45851.398296  5.394834e+05   \n",
       "1271                          3.24     33267.767728  3.114052e+04   \n",
       "1459                          3.28     24435.777302  1.430274e+05   \n",
       "1597                          4.36     43183.516104  7.811375e+05   \n",
       "2025                          2.13     45899.738402  7.237501e+05   \n",
       "2092                          6.35     20833.007623  4.493316e+05   \n",
       "2242                          4.22     25432.076773  7.590447e+05   \n",
       "2597                          2.31     38890.892760  4.011486e+05   \n",
       "3069                          4.50     59636.402553  1.077806e+06   \n",
       "3144                          3.47     47386.793614  9.684116e+05   \n",
       "3183                          5.12     38067.552184  8.996093e+05   \n",
       "4449                          3.16     38725.424303  6.960145e+05   \n",
       "4716                          4.47     67727.229051  1.267987e+06   \n",
       "4744                          2.32     40275.599326  3.959013e+05   \n",
       "4844                          6.07     39632.079786  8.804028e+05   \n",
       "4855                          5.00     24844.200190  2.998630e+05   \n",
       "\n",
       "                                                Address  \n",
       "12    209 Natasha Stream Suite 961\\nHuffmanland, NE ...  \n",
       "39        9932 Eric Circles\\nLake Martha, WY 34611-6127  \n",
       "411   842 Duane Brook Apt. 380\\nMonicaview, AR 01639...  \n",
       "844   1085 Michele Glens Apt. 517\\nSergiotown, VT 20367  \n",
       "1271  98398 Terrance Pines\\nSouth Joshua, MT 00544-8919  \n",
       "1459      166 Terry Grove\\nSouth Michaelhaven, PR 18054  \n",
       "1597  829 Bonnie Rue Suite 653\\nYorkville, MP 35797-...  \n",
       "2025  2899 Katherine Junction\\nNorth Richardview, SC...  \n",
       "2092       652 Stanton Island\\nAdamsview, VA 56957-9960  \n",
       "2242    86840 Jonathon Field\\nStevenport, KY 45694-2395  \n",
       "2597        4317 Heather Port\\nHicksland, SC 77008-9209  \n",
       "3069                   Unit 4700 Box 1880\\nDPO AP 18074  \n",
       "3144  6613 Cynthia Loop Suite 555\\nLake Heatherstad,...  \n",
       "3183  783 Stacey Glen\\nWest Katherineberg, NV 67007-...  \n",
       "4449   5231 David Shoals\\nEast Chaseland, MO 54930-5094  \n",
       "4716      14763 Jeffrey Islands\\nAmytown, WV 47279-7543  \n",
       "4744  58979 Jimmy Place Apt. 907\\nEast Bryanbury, MN...  \n",
       "4844  901 Peter Fort Apt. 157\\nTaylorfort, ND 06249-...  \n",
       "4855       645 Mary Radial\\nEast Roberto, CA 23652-5430  "
      ]
     },
     "execution_count": 73,
     "metadata": {},
     "output_type": "execute_result"
    }
   ],
   "source": [
    "df[df['Avg. Area Income'] < 40000]"
   ]
  },
  {
   "cell_type": "code",
   "execution_count": 74,
   "id": "a221a323",
   "metadata": {},
   "outputs": [
    {
     "data": {
      "text/plain": [
       "19"
      ]
     },
     "execution_count": 74,
     "metadata": {},
     "output_type": "execute_result"
    }
   ],
   "source": [
    "len(df[df['Avg. Area Income'] < 40000])"
   ]
  },
  {
   "cell_type": "code",
   "execution_count": 75,
   "id": "83deddbe",
   "metadata": {},
   "outputs": [
    {
     "data": {
      "text/html": [
       "<div>\n",
       "<style scoped>\n",
       "    .dataframe tbody tr th:only-of-type {\n",
       "        vertical-align: middle;\n",
       "    }\n",
       "\n",
       "    .dataframe tbody tr th {\n",
       "        vertical-align: top;\n",
       "    }\n",
       "\n",
       "    .dataframe thead th {\n",
       "        text-align: right;\n",
       "    }\n",
       "</style>\n",
       "<table border=\"1\" class=\"dataframe\">\n",
       "  <thead>\n",
       "    <tr style=\"text-align: right;\">\n",
       "      <th></th>\n",
       "      <th>Avg. Area Income</th>\n",
       "      <th>Avg. Area House Age</th>\n",
       "      <th>Avg. Area Number of Rooms</th>\n",
       "      <th>Avg. Area Number of Bedrooms</th>\n",
       "      <th>Area Population</th>\n",
       "      <th>Price</th>\n",
       "      <th>Address</th>\n",
       "    </tr>\n",
       "  </thead>\n",
       "  <tbody>\n",
       "    <tr>\n",
       "      <th>12</th>\n",
       "      <td>39033.809237</td>\n",
       "      <td>7.671755</td>\n",
       "      <td>7.250029</td>\n",
       "      <td>3.10</td>\n",
       "      <td>39220.361467</td>\n",
       "      <td>1.042814e+06</td>\n",
       "      <td>209 Natasha Stream Suite 961\\nHuffmanland, NE ...</td>\n",
       "    </tr>\n",
       "    <tr>\n",
       "      <th>39</th>\n",
       "      <td>17796.631190</td>\n",
       "      <td>4.949557</td>\n",
       "      <td>6.713905</td>\n",
       "      <td>2.50</td>\n",
       "      <td>47162.183643</td>\n",
       "      <td>3.023558e+05</td>\n",
       "      <td>9932 Eric Circles\\nLake Martha, WY 34611-6127</td>\n",
       "    </tr>\n",
       "    <tr>\n",
       "      <th>411</th>\n",
       "      <td>36100.444227</td>\n",
       "      <td>5.778489</td>\n",
       "      <td>5.497450</td>\n",
       "      <td>2.29</td>\n",
       "      <td>44901.857338</td>\n",
       "      <td>5.995040e+05</td>\n",
       "      <td>842 Duane Brook Apt. 380\\nMonicaview, AR 01639...</td>\n",
       "    </tr>\n",
       "    <tr>\n",
       "      <th>428</th>\n",
       "      <td>97112.361252</td>\n",
       "      <td>5.914725</td>\n",
       "      <td>6.133646</td>\n",
       "      <td>3.10</td>\n",
       "      <td>51470.067638</td>\n",
       "      <td>1.917584e+06</td>\n",
       "      <td>35841 Christine Shore\\nWallmouth, NC 98956-5357</td>\n",
       "    </tr>\n",
       "    <tr>\n",
       "      <th>558</th>\n",
       "      <td>99629.013581</td>\n",
       "      <td>5.431863</td>\n",
       "      <td>7.351398</td>\n",
       "      <td>5.45</td>\n",
       "      <td>36950.739057</td>\n",
       "      <td>1.883481e+06</td>\n",
       "      <td>PSC 0420, Box 6835\\nAPO AE 08359</td>\n",
       "    </tr>\n",
       "    <tr>\n",
       "      <th>693</th>\n",
       "      <td>107701.748378</td>\n",
       "      <td>7.143522</td>\n",
       "      <td>8.518608</td>\n",
       "      <td>3.29</td>\n",
       "      <td>37619.439929</td>\n",
       "      <td>2.332111e+06</td>\n",
       "      <td>41017 Eric Village\\nJonathanport, CO 37205</td>\n",
       "    </tr>\n",
       "    <tr>\n",
       "      <th>844</th>\n",
       "      <td>39411.652788</td>\n",
       "      <td>4.385845</td>\n",
       "      <td>7.047435</td>\n",
       "      <td>4.44</td>\n",
       "      <td>45851.398296</td>\n",
       "      <td>5.394834e+05</td>\n",
       "      <td>1085 Michele Glens Apt. 517\\nSergiotown, VT 20367</td>\n",
       "    </tr>\n",
       "    <tr>\n",
       "      <th>962</th>\n",
       "      <td>101928.858060</td>\n",
       "      <td>4.829586</td>\n",
       "      <td>9.039382</td>\n",
       "      <td>4.08</td>\n",
       "      <td>22804.991935</td>\n",
       "      <td>1.938866e+06</td>\n",
       "      <td>856 Harris Centers Suite 940\\nNicholasport, IL...</td>\n",
       "    </tr>\n",
       "    <tr>\n",
       "      <th>1096</th>\n",
       "      <td>97548.310413</td>\n",
       "      <td>5.460973</td>\n",
       "      <td>6.609396</td>\n",
       "      <td>2.50</td>\n",
       "      <td>39089.415712</td>\n",
       "      <td>2.026303e+06</td>\n",
       "      <td>349 Sean Forges\\nWhitakerville, WY 85138-4153</td>\n",
       "    </tr>\n",
       "    <tr>\n",
       "      <th>1271</th>\n",
       "      <td>37971.207566</td>\n",
       "      <td>4.291224</td>\n",
       "      <td>5.807510</td>\n",
       "      <td>3.24</td>\n",
       "      <td>33267.767728</td>\n",
       "      <td>3.114052e+04</td>\n",
       "      <td>98398 Terrance Pines\\nSouth Joshua, MT 00544-8919</td>\n",
       "    </tr>\n",
       "    <tr>\n",
       "      <th>1459</th>\n",
       "      <td>35963.330809</td>\n",
       "      <td>3.438547</td>\n",
       "      <td>8.264122</td>\n",
       "      <td>3.28</td>\n",
       "      <td>24435.777302</td>\n",
       "      <td>1.430274e+05</td>\n",
       "      <td>166 Terry Grove\\nSouth Michaelhaven, PR 18054</td>\n",
       "    </tr>\n",
       "    <tr>\n",
       "      <th>1597</th>\n",
       "      <td>39294.036523</td>\n",
       "      <td>5.928585</td>\n",
       "      <td>5.960676</td>\n",
       "      <td>4.36</td>\n",
       "      <td>43183.516104</td>\n",
       "      <td>7.811375e+05</td>\n",
       "      <td>829 Bonnie Rue Suite 653\\nYorkville, MP 35797-...</td>\n",
       "    </tr>\n",
       "    <tr>\n",
       "      <th>1734</th>\n",
       "      <td>104702.724257</td>\n",
       "      <td>5.575523</td>\n",
       "      <td>6.932106</td>\n",
       "      <td>3.22</td>\n",
       "      <td>22560.527135</td>\n",
       "      <td>1.742432e+06</td>\n",
       "      <td>14230 Douglas River Suite 570\\nConniechester, ...</td>\n",
       "    </tr>\n",
       "    <tr>\n",
       "      <th>1891</th>\n",
       "      <td>101144.323930</td>\n",
       "      <td>6.350845</td>\n",
       "      <td>7.231771</td>\n",
       "      <td>3.09</td>\n",
       "      <td>35772.524007</td>\n",
       "      <td>2.007556e+06</td>\n",
       "      <td>233 Wilson Ranch Suite 086\\nWest Christine, IN...</td>\n",
       "    </tr>\n",
       "    <tr>\n",
       "      <th>2025</th>\n",
       "      <td>38139.919045</td>\n",
       "      <td>5.577267</td>\n",
       "      <td>6.348068</td>\n",
       "      <td>2.13</td>\n",
       "      <td>45899.738402</td>\n",
       "      <td>7.237501e+05</td>\n",
       "      <td>2899 Katherine Junction\\nNorth Richardview, SC...</td>\n",
       "    </tr>\n",
       "    <tr>\n",
       "      <th>2092</th>\n",
       "      <td>35608.986237</td>\n",
       "      <td>6.935839</td>\n",
       "      <td>7.827589</td>\n",
       "      <td>6.35</td>\n",
       "      <td>20833.007623</td>\n",
       "      <td>4.493316e+05</td>\n",
       "      <td>652 Stanton Island\\nAdamsview, VA 56957-9960</td>\n",
       "    </tr>\n",
       "    <tr>\n",
       "      <th>2242</th>\n",
       "      <td>38868.250311</td>\n",
       "      <td>6.965104</td>\n",
       "      <td>8.966906</td>\n",
       "      <td>4.22</td>\n",
       "      <td>25432.076773</td>\n",
       "      <td>7.590447e+05</td>\n",
       "      <td>86840 Jonathon Field\\nStevenport, KY 45694-2395</td>\n",
       "    </tr>\n",
       "    <tr>\n",
       "      <th>2300</th>\n",
       "      <td>98468.253641</td>\n",
       "      <td>7.035383</td>\n",
       "      <td>6.629233</td>\n",
       "      <td>3.05</td>\n",
       "      <td>50676.312404</td>\n",
       "      <td>2.275455e+06</td>\n",
       "      <td>USNV Hoffman\\nFPO AA 45311-5701</td>\n",
       "    </tr>\n",
       "    <tr>\n",
       "      <th>2597</th>\n",
       "      <td>38734.005216</td>\n",
       "      <td>5.641762</td>\n",
       "      <td>6.297908</td>\n",
       "      <td>2.31</td>\n",
       "      <td>38890.892760</td>\n",
       "      <td>4.011486e+05</td>\n",
       "      <td>4317 Heather Port\\nHicksland, SC 77008-9209</td>\n",
       "    </tr>\n",
       "    <tr>\n",
       "      <th>2719</th>\n",
       "      <td>101599.670580</td>\n",
       "      <td>7.798746</td>\n",
       "      <td>7.480512</td>\n",
       "      <td>6.39</td>\n",
       "      <td>37523.864670</td>\n",
       "      <td>2.370231e+06</td>\n",
       "      <td>52280 Steven Street\\nRobertchester, IA 40405-0504</td>\n",
       "    </tr>\n",
       "    <tr>\n",
       "      <th>3069</th>\n",
       "      <td>35454.714659</td>\n",
       "      <td>6.855708</td>\n",
       "      <td>6.018647</td>\n",
       "      <td>4.50</td>\n",
       "      <td>59636.402553</td>\n",
       "      <td>1.077806e+06</td>\n",
       "      <td>Unit 4700 Box 1880\\nDPO AP 18074</td>\n",
       "    </tr>\n",
       "    <tr>\n",
       "      <th>3144</th>\n",
       "      <td>38571.963670</td>\n",
       "      <td>7.425292</td>\n",
       "      <td>5.723009</td>\n",
       "      <td>3.47</td>\n",
       "      <td>47386.793614</td>\n",
       "      <td>9.684116e+05</td>\n",
       "      <td>6613 Cynthia Loop Suite 555\\nLake Heatherstad,...</td>\n",
       "    </tr>\n",
       "    <tr>\n",
       "      <th>3183</th>\n",
       "      <td>38122.524488</td>\n",
       "      <td>6.336109</td>\n",
       "      <td>7.762551</td>\n",
       "      <td>5.12</td>\n",
       "      <td>38067.552184</td>\n",
       "      <td>8.996093e+05</td>\n",
       "      <td>783 Stacey Glen\\nWest Katherineberg, NV 67007-...</td>\n",
       "    </tr>\n",
       "    <tr>\n",
       "      <th>3483</th>\n",
       "      <td>97881.587279</td>\n",
       "      <td>5.034395</td>\n",
       "      <td>7.575905</td>\n",
       "      <td>5.46</td>\n",
       "      <td>37152.799341</td>\n",
       "      <td>1.859161e+06</td>\n",
       "      <td>01230 Peter Loop Suite 135\\nEdwardstad, SC 67538</td>\n",
       "    </tr>\n",
       "    <tr>\n",
       "      <th>3541</th>\n",
       "      <td>102881.120902</td>\n",
       "      <td>6.471249</td>\n",
       "      <td>5.693536</td>\n",
       "      <td>3.12</td>\n",
       "      <td>21051.531294</td>\n",
       "      <td>1.754938e+06</td>\n",
       "      <td>784 Arnold Prairie Apt. 787\\nJamesside, NM 04270</td>\n",
       "    </tr>\n",
       "    <tr>\n",
       "      <th>3798</th>\n",
       "      <td>97669.064491</td>\n",
       "      <td>6.888763</td>\n",
       "      <td>6.739379</td>\n",
       "      <td>4.14</td>\n",
       "      <td>43203.271060</td>\n",
       "      <td>2.102244e+06</td>\n",
       "      <td>0646 Martin Pass\\nKimberlyberg, GU 73453</td>\n",
       "    </tr>\n",
       "    <tr>\n",
       "      <th>3947</th>\n",
       "      <td>97076.164503</td>\n",
       "      <td>5.960820</td>\n",
       "      <td>6.606164</td>\n",
       "      <td>2.46</td>\n",
       "      <td>39915.656778</td>\n",
       "      <td>1.969194e+06</td>\n",
       "      <td>20831 Heather Common Suite 998\\nLake Elizabeth...</td>\n",
       "    </tr>\n",
       "    <tr>\n",
       "      <th>4087</th>\n",
       "      <td>100741.298585</td>\n",
       "      <td>5.870726</td>\n",
       "      <td>6.644853</td>\n",
       "      <td>4.33</td>\n",
       "      <td>26041.487616</td>\n",
       "      <td>1.644923e+06</td>\n",
       "      <td>5155 Virginia Station\\nFischerberg, PA 75078-8129</td>\n",
       "    </tr>\n",
       "    <tr>\n",
       "      <th>4400</th>\n",
       "      <td>99317.823145</td>\n",
       "      <td>5.495861</td>\n",
       "      <td>7.182721</td>\n",
       "      <td>6.03</td>\n",
       "      <td>50350.352292</td>\n",
       "      <td>2.219724e+06</td>\n",
       "      <td>87549 Garcia Path\\nSolomonside, ID 72003</td>\n",
       "    </tr>\n",
       "    <tr>\n",
       "      <th>4449</th>\n",
       "      <td>39777.606906</td>\n",
       "      <td>5.804627</td>\n",
       "      <td>7.147719</td>\n",
       "      <td>3.16</td>\n",
       "      <td>38725.424303</td>\n",
       "      <td>6.960145e+05</td>\n",
       "      <td>5231 David Shoals\\nEast Chaseland, MO 54930-5094</td>\n",
       "    </tr>\n",
       "    <tr>\n",
       "      <th>4716</th>\n",
       "      <td>38530.124478</td>\n",
       "      <td>4.265906</td>\n",
       "      <td>8.026969</td>\n",
       "      <td>4.47</td>\n",
       "      <td>67727.229051</td>\n",
       "      <td>1.267987e+06</td>\n",
       "      <td>14763 Jeffrey Islands\\nAmytown, WV 47279-7543</td>\n",
       "    </tr>\n",
       "    <tr>\n",
       "      <th>4744</th>\n",
       "      <td>39653.770031</td>\n",
       "      <td>5.205089</td>\n",
       "      <td>6.951617</td>\n",
       "      <td>2.32</td>\n",
       "      <td>40275.599326</td>\n",
       "      <td>3.959013e+05</td>\n",
       "      <td>58979 Jimmy Place Apt. 907\\nEast Bryanbury, MN...</td>\n",
       "    </tr>\n",
       "    <tr>\n",
       "      <th>4844</th>\n",
       "      <td>37908.675863</td>\n",
       "      <td>6.233813</td>\n",
       "      <td>7.252916</td>\n",
       "      <td>6.07</td>\n",
       "      <td>39632.079786</td>\n",
       "      <td>8.804028e+05</td>\n",
       "      <td>901 Peter Fort Apt. 157\\nTaylorfort, ND 06249-...</td>\n",
       "    </tr>\n",
       "    <tr>\n",
       "      <th>4855</th>\n",
       "      <td>35797.323122</td>\n",
       "      <td>5.544221</td>\n",
       "      <td>7.795138</td>\n",
       "      <td>5.00</td>\n",
       "      <td>24844.200190</td>\n",
       "      <td>2.998630e+05</td>\n",
       "      <td>645 Mary Radial\\nEast Roberto, CA 23652-5430</td>\n",
       "    </tr>\n",
       "  </tbody>\n",
       "</table>\n",
       "</div>"
      ],
      "text/plain": [
       "      Avg. Area Income  Avg. Area House Age  Avg. Area Number of Rooms  \\\n",
       "12        39033.809237             7.671755                   7.250029   \n",
       "39        17796.631190             4.949557                   6.713905   \n",
       "411       36100.444227             5.778489                   5.497450   \n",
       "428       97112.361252             5.914725                   6.133646   \n",
       "558       99629.013581             5.431863                   7.351398   \n",
       "693      107701.748378             7.143522                   8.518608   \n",
       "844       39411.652788             4.385845                   7.047435   \n",
       "962      101928.858060             4.829586                   9.039382   \n",
       "1096      97548.310413             5.460973                   6.609396   \n",
       "1271      37971.207566             4.291224                   5.807510   \n",
       "1459      35963.330809             3.438547                   8.264122   \n",
       "1597      39294.036523             5.928585                   5.960676   \n",
       "1734     104702.724257             5.575523                   6.932106   \n",
       "1891     101144.323930             6.350845                   7.231771   \n",
       "2025      38139.919045             5.577267                   6.348068   \n",
       "2092      35608.986237             6.935839                   7.827589   \n",
       "2242      38868.250311             6.965104                   8.966906   \n",
       "2300      98468.253641             7.035383                   6.629233   \n",
       "2597      38734.005216             5.641762                   6.297908   \n",
       "2719     101599.670580             7.798746                   7.480512   \n",
       "3069      35454.714659             6.855708                   6.018647   \n",
       "3144      38571.963670             7.425292                   5.723009   \n",
       "3183      38122.524488             6.336109                   7.762551   \n",
       "3483      97881.587279             5.034395                   7.575905   \n",
       "3541     102881.120902             6.471249                   5.693536   \n",
       "3798      97669.064491             6.888763                   6.739379   \n",
       "3947      97076.164503             5.960820                   6.606164   \n",
       "4087     100741.298585             5.870726                   6.644853   \n",
       "4400      99317.823145             5.495861                   7.182721   \n",
       "4449      39777.606906             5.804627                   7.147719   \n",
       "4716      38530.124478             4.265906                   8.026969   \n",
       "4744      39653.770031             5.205089                   6.951617   \n",
       "4844      37908.675863             6.233813                   7.252916   \n",
       "4855      35797.323122             5.544221                   7.795138   \n",
       "\n",
       "      Avg. Area Number of Bedrooms  Area Population         Price  \\\n",
       "12                            3.10     39220.361467  1.042814e+06   \n",
       "39                            2.50     47162.183643  3.023558e+05   \n",
       "411                           2.29     44901.857338  5.995040e+05   \n",
       "428                           3.10     51470.067638  1.917584e+06   \n",
       "558                           5.45     36950.739057  1.883481e+06   \n",
       "693                           3.29     37619.439929  2.332111e+06   \n",
       "844                           4.44     45851.398296  5.394834e+05   \n",
       "962                           4.08     22804.991935  1.938866e+06   \n",
       "1096                          2.50     39089.415712  2.026303e+06   \n",
       "1271                          3.24     33267.767728  3.114052e+04   \n",
       "1459                          3.28     24435.777302  1.430274e+05   \n",
       "1597                          4.36     43183.516104  7.811375e+05   \n",
       "1734                          3.22     22560.527135  1.742432e+06   \n",
       "1891                          3.09     35772.524007  2.007556e+06   \n",
       "2025                          2.13     45899.738402  7.237501e+05   \n",
       "2092                          6.35     20833.007623  4.493316e+05   \n",
       "2242                          4.22     25432.076773  7.590447e+05   \n",
       "2300                          3.05     50676.312404  2.275455e+06   \n",
       "2597                          2.31     38890.892760  4.011486e+05   \n",
       "2719                          6.39     37523.864670  2.370231e+06   \n",
       "3069                          4.50     59636.402553  1.077806e+06   \n",
       "3144                          3.47     47386.793614  9.684116e+05   \n",
       "3183                          5.12     38067.552184  8.996093e+05   \n",
       "3483                          5.46     37152.799341  1.859161e+06   \n",
       "3541                          3.12     21051.531294  1.754938e+06   \n",
       "3798                          4.14     43203.271060  2.102244e+06   \n",
       "3947                          2.46     39915.656778  1.969194e+06   \n",
       "4087                          4.33     26041.487616  1.644923e+06   \n",
       "4400                          6.03     50350.352292  2.219724e+06   \n",
       "4449                          3.16     38725.424303  6.960145e+05   \n",
       "4716                          4.47     67727.229051  1.267987e+06   \n",
       "4744                          2.32     40275.599326  3.959013e+05   \n",
       "4844                          6.07     39632.079786  8.804028e+05   \n",
       "4855                          5.00     24844.200190  2.998630e+05   \n",
       "\n",
       "                                                Address  \n",
       "12    209 Natasha Stream Suite 961\\nHuffmanland, NE ...  \n",
       "39        9932 Eric Circles\\nLake Martha, WY 34611-6127  \n",
       "411   842 Duane Brook Apt. 380\\nMonicaview, AR 01639...  \n",
       "428     35841 Christine Shore\\nWallmouth, NC 98956-5357  \n",
       "558                    PSC 0420, Box 6835\\nAPO AE 08359  \n",
       "693          41017 Eric Village\\nJonathanport, CO 37205  \n",
       "844   1085 Michele Glens Apt. 517\\nSergiotown, VT 20367  \n",
       "962   856 Harris Centers Suite 940\\nNicholasport, IL...  \n",
       "1096      349 Sean Forges\\nWhitakerville, WY 85138-4153  \n",
       "1271  98398 Terrance Pines\\nSouth Joshua, MT 00544-8919  \n",
       "1459      166 Terry Grove\\nSouth Michaelhaven, PR 18054  \n",
       "1597  829 Bonnie Rue Suite 653\\nYorkville, MP 35797-...  \n",
       "1734  14230 Douglas River Suite 570\\nConniechester, ...  \n",
       "1891  233 Wilson Ranch Suite 086\\nWest Christine, IN...  \n",
       "2025  2899 Katherine Junction\\nNorth Richardview, SC...  \n",
       "2092       652 Stanton Island\\nAdamsview, VA 56957-9960  \n",
       "2242    86840 Jonathon Field\\nStevenport, KY 45694-2395  \n",
       "2300                    USNV Hoffman\\nFPO AA 45311-5701  \n",
       "2597        4317 Heather Port\\nHicksland, SC 77008-9209  \n",
       "2719  52280 Steven Street\\nRobertchester, IA 40405-0504  \n",
       "3069                   Unit 4700 Box 1880\\nDPO AP 18074  \n",
       "3144  6613 Cynthia Loop Suite 555\\nLake Heatherstad,...  \n",
       "3183  783 Stacey Glen\\nWest Katherineberg, NV 67007-...  \n",
       "3483   01230 Peter Loop Suite 135\\nEdwardstad, SC 67538  \n",
       "3541   784 Arnold Prairie Apt. 787\\nJamesside, NM 04270  \n",
       "3798           0646 Martin Pass\\nKimberlyberg, GU 73453  \n",
       "3947  20831 Heather Common Suite 998\\nLake Elizabeth...  \n",
       "4087  5155 Virginia Station\\nFischerberg, PA 75078-8129  \n",
       "4400           87549 Garcia Path\\nSolomonside, ID 72003  \n",
       "4449   5231 David Shoals\\nEast Chaseland, MO 54930-5094  \n",
       "4716      14763 Jeffrey Islands\\nAmytown, WV 47279-7543  \n",
       "4744  58979 Jimmy Place Apt. 907\\nEast Bryanbury, MN...  \n",
       "4844  901 Peter Fort Apt. 157\\nTaylorfort, ND 06249-...  \n",
       "4855       645 Mary Radial\\nEast Roberto, CA 23652-5430  "
      ]
     },
     "execution_count": 75,
     "metadata": {},
     "output_type": "execute_result"
    }
   ],
   "source": [
    "df[(df['Avg. Area Income'] > 97000) | (df['Avg. Area Income'] < 40000)]"
   ]
  },
  {
   "cell_type": "code",
   "execution_count": 76,
   "id": "7368d7c2",
   "metadata": {},
   "outputs": [
    {
     "data": {
      "text/plain": [
       "34"
      ]
     },
     "execution_count": 76,
     "metadata": {},
     "output_type": "execute_result"
    }
   ],
   "source": [
    "len(df[(df['Avg. Area Income'] > 97000) | (df['Avg. Area Income'] < 40000)])"
   ]
  },
  {
   "cell_type": "code",
   "execution_count": 77,
   "id": "46f4b4ad",
   "metadata": {},
   "outputs": [
    {
     "data": {
      "text/plain": [
       "Index([  12,   39,  411,  428,  558,  693,  844,  962, 1096, 1271, 1459, 1597,\n",
       "       1734, 1891, 2025, 2092, 2242, 2300, 2597, 2719, 3069, 3144, 3183, 3483,\n",
       "       3541, 3798, 3947, 4087, 4400, 4449, 4716, 4744, 4844, 4855],\n",
       "      dtype='int64')"
      ]
     },
     "execution_count": 77,
     "metadata": {},
     "output_type": "execute_result"
    }
   ],
   "source": [
    "df[(df['Avg. Area Income'] > 97000) | (df['Avg. Area Income'] < 40000)].index"
   ]
  },
  {
   "cell_type": "code",
   "execution_count": 78,
   "id": "2e85465c",
   "metadata": {},
   "outputs": [
    {
     "data": {
      "text/plain": [
       "(5000, 7)"
      ]
     },
     "execution_count": 78,
     "metadata": {},
     "output_type": "execute_result"
    }
   ],
   "source": [
    "df.shape"
   ]
  },
  {
   "cell_type": "code",
   "execution_count": 79,
   "id": "4ca4ec3b",
   "metadata": {},
   "outputs": [],
   "source": [
    "df.drop(index=[12,   39,  411,  428,  558,  693,  844,  962, 1096, 1271, 1459,\n",
    "            1597, 1734, 1891, 2025, 2092, 2242, 2300, 2597, 2719, 3069, 3144,\n",
    "            3183, 3483, 3541, 3798, 3947, 4087, 4400, 4449, 4716, 4744, 4844,\n",
    "            4855], axis=0, inplace=True)"
   ]
  },
  {
   "cell_type": "code",
   "execution_count": 80,
   "id": "f35fbf59",
   "metadata": {},
   "outputs": [
    {
     "data": {
      "text/plain": [
       "(4966, 7)"
      ]
     },
     "execution_count": 80,
     "metadata": {},
     "output_type": "execute_result"
    }
   ],
   "source": [
    "df.shape"
   ]
  },
  {
   "cell_type": "code",
   "execution_count": 81,
   "id": "4ac34b6a",
   "metadata": {},
   "outputs": [
    {
     "data": {
      "image/png": "[encoded data removed]",
      "text/plain": [
       "<Figure size 640x480 with 1 Axes>"
      ]
     },
     "metadata": {},
     "output_type": "display_data"
    }
   ],
   "source": [
    "sns.boxplot(df['Avg. Area Income'], color='pink')\n",
    "plt.title('Avg Area Income')\n",
    "plt.grid()\n",
    "plt.show()"
   ]
  },
  {
   "cell_type": "code",
   "execution_count": 82,
   "id": "6dc16a57",
   "metadata": {},
   "outputs": [
    {
     "data": {
      "text/html": [
       "<div>\n",
       "<style scoped>\n",
       "    .dataframe tbody tr th:only-of-type {\n",
       "        vertical-align: middle;\n",
       "    }\n",
       "\n",
       "    .dataframe tbody tr th {\n",
       "        vertical-align: top;\n",
       "    }\n",
       "\n",
       "    .dataframe thead th {\n",
       "        text-align: right;\n",
       "    }\n",
       "</style>\n",
       "<table border=\"1\" class=\"dataframe\">\n",
       "  <thead>\n",
       "    <tr style=\"text-align: right;\">\n",
       "      <th></th>\n",
       "      <th>Avg. Area Income</th>\n",
       "      <th>Avg. Area House Age</th>\n",
       "      <th>Avg. Area Number of Rooms</th>\n",
       "      <th>Avg. Area Number of Bedrooms</th>\n",
       "      <th>Area Population</th>\n",
       "      <th>Price</th>\n",
       "      <th>Address</th>\n",
       "    </tr>\n",
       "  </thead>\n",
       "  <tbody>\n",
       "  </tbody>\n",
       "</table>\n",
       "</div>"
      ],
      "text/plain": [
       "Empty DataFrame\n",
       "Columns: [Avg. Area Income, Avg. Area House Age, Avg. Area Number of Rooms, Avg. Area Number of Bedrooms, Area Population, Price, Address]\n",
       "Index: []"
      ]
     },
     "execution_count": 82,
     "metadata": {},
     "output_type": "execute_result"
    }
   ],
   "source": [
    "df[(df['Avg. Area Income'] > 97000) | (df['Avg. Area Income'] < 40000)]"
   ]
  },
  {
   "cell_type": "markdown",
   "id": "ae2b429a",
   "metadata": {},
   "source": [
    "# feature encoding or droping "
   ]
  },
  {
   "cell_type": "code",
   "execution_count": 83,
   "id": "98f15fb8",
   "metadata": {},
   "outputs": [
    {
     "data": {
      "text/plain": [
       "Address\n",
       "208 Michael Ferry Apt. 674\\nLaurabury, NE 37010-5101             1\n",
       "89265 Robert Haven Apt. 492\\nSmithburgh, FM 58565-1105           1\n",
       "PSC 7034, Box 6131\\nAPO AA 05662-4293                            1\n",
       "21042 Wilson Islands Suite 238\\nFischerchester, MP 42425-4129    1\n",
       "Unit 8831 Box 5748\\nDPO AE 73012-7314                            1\n",
       "                                                                ..\n",
       "054 Carter Crescent Suite 674\\nGlennport, WA 11140               1\n",
       "8460 Kathleen Mission Apt. 482\\nPort Amytown, KY 72016           1\n",
       "3737 Hartman Rue\\nReneestad, ID 69250-7718                       1\n",
       "3465 Latoya Well\\nNelsonmouth, MI 55741-4287                     1\n",
       "37778 George Ridges Apt. 509\\nEast Holly, NV 29290-3595          1\n",
       "Name: count, Length: 4966, dtype: int64"
      ]
     },
     "execution_count": 83,
     "metadata": {},
     "output_type": "execute_result"
    }
   ],
   "source": [
    "df['Address'].value_counts()"
   ]
  },
  {
   "cell_type": "code",
   "execution_count": 84,
   "id": "1b1e0d87",
   "metadata": {},
   "outputs": [
    {
     "data": {
      "text/plain": [
       "(4966, 7)"
      ]
     },
     "execution_count": 84,
     "metadata": {},
     "output_type": "execute_result"
    }
   ],
   "source": [
    "df.shape"
   ]
  },
  {
   "cell_type": "code",
   "execution_count": 85,
   "id": "5a765066",
   "metadata": {},
   "outputs": [],
   "source": [
    "df.drop(columns=['Address'],axis=1,inplace=True)"
   ]
  },
  {
   "cell_type": "code",
   "execution_count": 86,
   "id": "c4257956",
   "metadata": {},
   "outputs": [
    {
     "data": {
      "text/html": [
       "<div>\n",
       "<style scoped>\n",
       "    .dataframe tbody tr th:only-of-type {\n",
       "        vertical-align: middle;\n",
       "    }\n",
       "\n",
       "    .dataframe tbody tr th {\n",
       "        vertical-align: top;\n",
       "    }\n",
       "\n",
       "    .dataframe thead th {\n",
       "        text-align: right;\n",
       "    }\n",
       "</style>\n",
       "<table border=\"1\" class=\"dataframe\">\n",
       "  <thead>\n",
       "    <tr style=\"text-align: right;\">\n",
       "      <th></th>\n",
       "      <th>Avg. Area Income</th>\n",
       "      <th>Avg. Area House Age</th>\n",
       "      <th>Avg. Area Number of Rooms</th>\n",
       "      <th>Avg. Area Number of Bedrooms</th>\n",
       "      <th>Area Population</th>\n",
       "      <th>Price</th>\n",
       "    </tr>\n",
       "  </thead>\n",
       "  <tbody>\n",
       "    <tr>\n",
       "      <th>0</th>\n",
       "      <td>79545.458574</td>\n",
       "      <td>5.682861</td>\n",
       "      <td>7.009188</td>\n",
       "      <td>4.09</td>\n",
       "      <td>23086.800503</td>\n",
       "      <td>1.059034e+06</td>\n",
       "    </tr>\n",
       "    <tr>\n",
       "      <th>1</th>\n",
       "      <td>79248.642455</td>\n",
       "      <td>6.002900</td>\n",
       "      <td>6.730821</td>\n",
       "      <td>3.09</td>\n",
       "      <td>40173.072174</td>\n",
       "      <td>1.505891e+06</td>\n",
       "    </tr>\n",
       "    <tr>\n",
       "      <th>2</th>\n",
       "      <td>61287.067179</td>\n",
       "      <td>5.865890</td>\n",
       "      <td>8.512727</td>\n",
       "      <td>5.13</td>\n",
       "      <td>36882.159400</td>\n",
       "      <td>1.058988e+06</td>\n",
       "    </tr>\n",
       "    <tr>\n",
       "      <th>3</th>\n",
       "      <td>63345.240046</td>\n",
       "      <td>7.188236</td>\n",
       "      <td>5.586729</td>\n",
       "      <td>3.26</td>\n",
       "      <td>34310.242831</td>\n",
       "      <td>1.260617e+06</td>\n",
       "    </tr>\n",
       "    <tr>\n",
       "      <th>4</th>\n",
       "      <td>59982.197226</td>\n",
       "      <td>5.040555</td>\n",
       "      <td>7.839388</td>\n",
       "      <td>4.23</td>\n",
       "      <td>26354.109472</td>\n",
       "      <td>6.309435e+05</td>\n",
       "    </tr>\n",
       "    <tr>\n",
       "      <th>...</th>\n",
       "      <td>...</td>\n",
       "      <td>...</td>\n",
       "      <td>...</td>\n",
       "      <td>...</td>\n",
       "      <td>...</td>\n",
       "      <td>...</td>\n",
       "    </tr>\n",
       "    <tr>\n",
       "      <th>4995</th>\n",
       "      <td>60567.944140</td>\n",
       "      <td>7.830362</td>\n",
       "      <td>6.137356</td>\n",
       "      <td>3.46</td>\n",
       "      <td>22837.361035</td>\n",
       "      <td>1.060194e+06</td>\n",
       "    </tr>\n",
       "    <tr>\n",
       "      <th>4996</th>\n",
       "      <td>78491.275435</td>\n",
       "      <td>6.999135</td>\n",
       "      <td>6.576763</td>\n",
       "      <td>4.02</td>\n",
       "      <td>25616.115489</td>\n",
       "      <td>1.482618e+06</td>\n",
       "    </tr>\n",
       "    <tr>\n",
       "      <th>4997</th>\n",
       "      <td>63390.686886</td>\n",
       "      <td>7.250591</td>\n",
       "      <td>4.805081</td>\n",
       "      <td>2.13</td>\n",
       "      <td>33266.145490</td>\n",
       "      <td>1.030730e+06</td>\n",
       "    </tr>\n",
       "    <tr>\n",
       "      <th>4998</th>\n",
       "      <td>68001.331235</td>\n",
       "      <td>5.534388</td>\n",
       "      <td>7.130144</td>\n",
       "      <td>5.44</td>\n",
       "      <td>42625.620156</td>\n",
       "      <td>1.198657e+06</td>\n",
       "    </tr>\n",
       "    <tr>\n",
       "      <th>4999</th>\n",
       "      <td>65510.581804</td>\n",
       "      <td>5.992305</td>\n",
       "      <td>6.792336</td>\n",
       "      <td>4.07</td>\n",
       "      <td>46501.283803</td>\n",
       "      <td>1.298950e+06</td>\n",
       "    </tr>\n",
       "  </tbody>\n",
       "</table>\n",
       "<p>4966 rows × 6 columns</p>\n",
       "</div>"
      ],
      "text/plain": [
       "      Avg. Area Income  Avg. Area House Age  Avg. Area Number of Rooms  \\\n",
       "0         79545.458574             5.682861                   7.009188   \n",
       "1         79248.642455             6.002900                   6.730821   \n",
       "2         61287.067179             5.865890                   8.512727   \n",
       "3         63345.240046             7.188236                   5.586729   \n",
       "4         59982.197226             5.040555                   7.839388   \n",
       "...                ...                  ...                        ...   \n",
       "4995      60567.944140             7.830362                   6.137356   \n",
       "4996      78491.275435             6.999135                   6.576763   \n",
       "4997      63390.686886             7.250591                   4.805081   \n",
       "4998      68001.331235             5.534388                   7.130144   \n",
       "4999      65510.581804             5.992305                   6.792336   \n",
       "\n",
       "      Avg. Area Number of Bedrooms  Area Population         Price  \n",
       "0                             4.09     23086.800503  1.059034e+06  \n",
       "1                             3.09     40173.072174  1.505891e+06  \n",
       "2                             5.13     36882.159400  1.058988e+06  \n",
       "3                             3.26     34310.242831  1.260617e+06  \n",
       "4                             4.23     26354.109472  6.309435e+05  \n",
       "...                            ...              ...           ...  \n",
       "4995                          3.46     22837.361035  1.060194e+06  \n",
       "4996                          4.02     25616.115489  1.482618e+06  \n",
       "4997                          2.13     33266.145490  1.030730e+06  \n",
       "4998                          5.44     42625.620156  1.198657e+06  \n",
       "4999                          4.07     46501.283803  1.298950e+06  \n",
       "\n",
       "[4966 rows x 6 columns]"
      ]
     },
     "execution_count": 86,
     "metadata": {},
     "output_type": "execute_result"
    }
   ],
   "source": [
    "df"
   ]
  },
  {
   "cell_type": "markdown",
   "id": "513e55f4",
   "metadata": {},
   "source": [
    "# correlation "
   ]
  },
  {
   "cell_type": "code",
   "execution_count": 87,
   "id": "5aac19c5",
   "metadata": {},
   "outputs": [
    {
     "data": {
      "text/html": [
       "<div>\n",
       "<style scoped>\n",
       "    .dataframe tbody tr th:only-of-type {\n",
       "        vertical-align: middle;\n",
       "    }\n",
       "\n",
       "    .dataframe tbody tr th {\n",
       "        vertical-align: top;\n",
       "    }\n",
       "\n",
       "    .dataframe thead th {\n",
       "        text-align: right;\n",
       "    }\n",
       "</style>\n",
       "<table border=\"1\" class=\"dataframe\">\n",
       "  <thead>\n",
       "    <tr style=\"text-align: right;\">\n",
       "      <th></th>\n",
       "      <th>Avg. Area Income</th>\n",
       "      <th>Avg. Area House Age</th>\n",
       "      <th>Avg. Area Number of Rooms</th>\n",
       "      <th>Avg. Area Number of Bedrooms</th>\n",
       "      <th>Area Population</th>\n",
       "      <th>Price</th>\n",
       "    </tr>\n",
       "  </thead>\n",
       "  <tbody>\n",
       "    <tr>\n",
       "      <th>Avg. Area Income</th>\n",
       "      <td>1.000000</td>\n",
       "      <td>-0.006274</td>\n",
       "      <td>-0.012836</td>\n",
       "      <td>0.018610</td>\n",
       "      <td>-0.011947</td>\n",
       "      <td>0.629465</td>\n",
       "    </tr>\n",
       "    <tr>\n",
       "      <th>Avg. Area House Age</th>\n",
       "      <td>-0.006274</td>\n",
       "      <td>1.000000</td>\n",
       "      <td>-0.008912</td>\n",
       "      <td>0.005030</td>\n",
       "      <td>-0.018811</td>\n",
       "      <td>0.455607</td>\n",
       "    </tr>\n",
       "    <tr>\n",
       "      <th>Avg. Area Number of Rooms</th>\n",
       "      <td>-0.012836</td>\n",
       "      <td>-0.008912</td>\n",
       "      <td>1.000000</td>\n",
       "      <td>0.463133</td>\n",
       "      <td>0.004193</td>\n",
       "      <td>0.340249</td>\n",
       "    </tr>\n",
       "    <tr>\n",
       "      <th>Avg. Area Number of Bedrooms</th>\n",
       "      <td>0.018610</td>\n",
       "      <td>0.005030</td>\n",
       "      <td>0.463133</td>\n",
       "      <td>1.000000</td>\n",
       "      <td>-0.021517</td>\n",
       "      <td>0.171979</td>\n",
       "    </tr>\n",
       "    <tr>\n",
       "      <th>Area Population</th>\n",
       "      <td>-0.011947</td>\n",
       "      <td>-0.018811</td>\n",
       "      <td>0.004193</td>\n",
       "      <td>-0.021517</td>\n",
       "      <td>1.000000</td>\n",
       "      <td>0.414990</td>\n",
       "    </tr>\n",
       "    <tr>\n",
       "      <th>Price</th>\n",
       "      <td>0.629465</td>\n",
       "      <td>0.455607</td>\n",
       "      <td>0.340249</td>\n",
       "      <td>0.171979</td>\n",
       "      <td>0.414990</td>\n",
       "      <td>1.000000</td>\n",
       "    </tr>\n",
       "  </tbody>\n",
       "</table>\n",
       "</div>"
      ],
      "text/plain": [
       "                              Avg. Area Income  Avg. Area House Age  \\\n",
       "Avg. Area Income                      1.000000            -0.006274   \n",
       "Avg. Area House Age                  -0.006274             1.000000   \n",
       "Avg. Area Number of Rooms            -0.012836            -0.008912   \n",
       "Avg. Area Number of Bedrooms          0.018610             0.005030   \n",
       "Area Population                      -0.011947            -0.018811   \n",
       "Price                                 0.629465             0.455607   \n",
       "\n",
       "                              Avg. Area Number of Rooms  \\\n",
       "Avg. Area Income                              -0.012836   \n",
       "Avg. Area House Age                           -0.008912   \n",
       "Avg. Area Number of Rooms                      1.000000   \n",
       "Avg. Area Number of Bedrooms                   0.463133   \n",
       "Area Population                                0.004193   \n",
       "Price                                          0.340249   \n",
       "\n",
       "                              Avg. Area Number of Bedrooms  Area Population  \\\n",
       "Avg. Area Income                                  0.018610        -0.011947   \n",
       "Avg. Area House Age                               0.005030        -0.018811   \n",
       "Avg. Area Number of Rooms                         0.463133         0.004193   \n",
       "Avg. Area Number of Bedrooms                      1.000000        -0.021517   \n",
       "Area Population                                  -0.021517         1.000000   \n",
       "Price                                             0.171979         0.414990   \n",
       "\n",
       "                                 Price  \n",
       "Avg. Area Income              0.629465  \n",
       "Avg. Area House Age           0.455607  \n",
       "Avg. Area Number of Rooms     0.340249  \n",
       "Avg. Area Number of Bedrooms  0.171979  \n",
       "Area Population               0.414990  \n",
       "Price                         1.000000  "
      ]
     },
     "execution_count": 87,
     "metadata": {},
     "output_type": "execute_result"
    }
   ],
   "source": [
    "df.corr()"
   ]
  },
  {
   "cell_type": "code",
   "execution_count": 88,
   "id": "8b22e8cd",
   "metadata": {},
   "outputs": [
    {
     "data": {
      "text/plain": [
       "Avg. Area Income                0.629465\n",
       "Avg. Area House Age             0.455607\n",
       "Avg. Area Number of Rooms       0.340249\n",
       "Avg. Area Number of Bedrooms    0.171979\n",
       "Area Population                 0.414990\n",
       "Price                           1.000000\n",
       "Name: Price, dtype: float64"
      ]
     },
     "execution_count": 88,
     "metadata": {},
     "output_type": "execute_result"
    }
   ],
   "source": [
    "df.corr()['Price']"
   ]
  },
  {
   "cell_type": "markdown",
   "id": "838213cd",
   "metadata": {},
   "source": [
    "# model  building "
   ]
  },
  {
   "cell_type": "code",
   "execution_count": 89,
   "id": "504b0b91",
   "metadata": {},
   "outputs": [],
   "source": [
    "X=df.iloc[:,:-1]\n",
    "y=df['Price']"
   ]
  },
  {
   "cell_type": "code",
   "execution_count": 90,
   "id": "e59c9fb0",
   "metadata": {},
   "outputs": [
    {
     "data": {
      "text/html": [
       "<div>\n",
       "<style scoped>\n",
       "    .dataframe tbody tr th:only-of-type {\n",
       "        vertical-align: middle;\n",
       "    }\n",
       "\n",
       "    .dataframe tbody tr th {\n",
       "        vertical-align: top;\n",
       "    }\n",
       "\n",
       "    .dataframe thead th {\n",
       "        text-align: right;\n",
       "    }\n",
       "</style>\n",
       "<table border=\"1\" class=\"dataframe\">\n",
       "  <thead>\n",
       "    <tr style=\"text-align: right;\">\n",
       "      <th></th>\n",
       "      <th>Avg. Area Income</th>\n",
       "      <th>Avg. Area House Age</th>\n",
       "      <th>Avg. Area Number of Rooms</th>\n",
       "      <th>Avg. Area Number of Bedrooms</th>\n",
       "      <th>Area Population</th>\n",
       "    </tr>\n",
       "  </thead>\n",
       "  <tbody>\n",
       "    <tr>\n",
       "      <th>0</th>\n",
       "      <td>79545.458574</td>\n",
       "      <td>5.682861</td>\n",
       "      <td>7.009188</td>\n",
       "      <td>4.09</td>\n",
       "      <td>23086.800503</td>\n",
       "    </tr>\n",
       "    <tr>\n",
       "      <th>1</th>\n",
       "      <td>79248.642455</td>\n",
       "      <td>6.002900</td>\n",
       "      <td>6.730821</td>\n",
       "      <td>3.09</td>\n",
       "      <td>40173.072174</td>\n",
       "    </tr>\n",
       "    <tr>\n",
       "      <th>2</th>\n",
       "      <td>61287.067179</td>\n",
       "      <td>5.865890</td>\n",
       "      <td>8.512727</td>\n",
       "      <td>5.13</td>\n",
       "      <td>36882.159400</td>\n",
       "    </tr>\n",
       "    <tr>\n",
       "      <th>3</th>\n",
       "      <td>63345.240046</td>\n",
       "      <td>7.188236</td>\n",
       "      <td>5.586729</td>\n",
       "      <td>3.26</td>\n",
       "      <td>34310.242831</td>\n",
       "    </tr>\n",
       "    <tr>\n",
       "      <th>4</th>\n",
       "      <td>59982.197226</td>\n",
       "      <td>5.040555</td>\n",
       "      <td>7.839388</td>\n",
       "      <td>4.23</td>\n",
       "      <td>26354.109472</td>\n",
       "    </tr>\n",
       "    <tr>\n",
       "      <th>...</th>\n",
       "      <td>...</td>\n",
       "      <td>...</td>\n",
       "      <td>...</td>\n",
       "      <td>...</td>\n",
       "      <td>...</td>\n",
       "    </tr>\n",
       "    <tr>\n",
       "      <th>4995</th>\n",
       "      <td>60567.944140</td>\n",
       "      <td>7.830362</td>\n",
       "      <td>6.137356</td>\n",
       "      <td>3.46</td>\n",
       "      <td>22837.361035</td>\n",
       "    </tr>\n",
       "    <tr>\n",
       "      <th>4996</th>\n",
       "      <td>78491.275435</td>\n",
       "      <td>6.999135</td>\n",
       "      <td>6.576763</td>\n",
       "      <td>4.02</td>\n",
       "      <td>25616.115489</td>\n",
       "    </tr>\n",
       "    <tr>\n",
       "      <th>4997</th>\n",
       "      <td>63390.686886</td>\n",
       "      <td>7.250591</td>\n",
       "      <td>4.805081</td>\n",
       "      <td>2.13</td>\n",
       "      <td>33266.145490</td>\n",
       "    </tr>\n",
       "    <tr>\n",
       "      <th>4998</th>\n",
       "      <td>68001.331235</td>\n",
       "      <td>5.534388</td>\n",
       "      <td>7.130144</td>\n",
       "      <td>5.44</td>\n",
       "      <td>42625.620156</td>\n",
       "    </tr>\n",
       "    <tr>\n",
       "      <th>4999</th>\n",
       "      <td>65510.581804</td>\n",
       "      <td>5.992305</td>\n",
       "      <td>6.792336</td>\n",
       "      <td>4.07</td>\n",
       "      <td>46501.283803</td>\n",
       "    </tr>\n",
       "  </tbody>\n",
       "</table>\n",
       "<p>4966 rows × 5 columns</p>\n",
       "</div>"
      ],
      "text/plain": [
       "      Avg. Area Income  Avg. Area House Age  Avg. Area Number of Rooms  \\\n",
       "0         79545.458574             5.682861                   7.009188   \n",
       "1         79248.642455             6.002900                   6.730821   \n",
       "2         61287.067179             5.865890                   8.512727   \n",
       "3         63345.240046             7.188236                   5.586729   \n",
       "4         59982.197226             5.040555                   7.839388   \n",
       "...                ...                  ...                        ...   \n",
       "4995      60567.944140             7.830362                   6.137356   \n",
       "4996      78491.275435             6.999135                   6.576763   \n",
       "4997      63390.686886             7.250591                   4.805081   \n",
       "4998      68001.331235             5.534388                   7.130144   \n",
       "4999      65510.581804             5.992305                   6.792336   \n",
       "\n",
       "      Avg. Area Number of Bedrooms  Area Population  \n",
       "0                             4.09     23086.800503  \n",
       "1                             3.09     40173.072174  \n",
       "2                             5.13     36882.159400  \n",
       "3                             3.26     34310.242831  \n",
       "4                             4.23     26354.109472  \n",
       "...                            ...              ...  \n",
       "4995                          3.46     22837.361035  \n",
       "4996                          4.02     25616.115489  \n",
       "4997                          2.13     33266.145490  \n",
       "4998                          5.44     42625.620156  \n",
       "4999                          4.07     46501.283803  \n",
       "\n",
       "[4966 rows x 5 columns]"
      ]
     },
     "execution_count": 90,
     "metadata": {},
     "output_type": "execute_result"
    }
   ],
   "source": [
    "X"
   ]
  },
  {
   "cell_type": "code",
   "execution_count": 91,
   "id": "6d589bd0",
   "metadata": {},
   "outputs": [
    {
     "data": {
      "text/plain": [
       "0       1.059034e+06\n",
       "1       1.505891e+06\n",
       "2       1.058988e+06\n",
       "3       1.260617e+06\n",
       "4       6.309435e+05\n",
       "            ...     \n",
       "4995    1.060194e+06\n",
       "4996    1.482618e+06\n",
       "4997    1.030730e+06\n",
       "4998    1.198657e+06\n",
       "4999    1.298950e+06\n",
       "Name: Price, Length: 4966, dtype: float64"
      ]
     },
     "execution_count": 91,
     "metadata": {},
     "output_type": "execute_result"
    }
   ],
   "source": [
    "y"
   ]
  },
  {
   "cell_type": "code",
   "execution_count": 96,
   "id": "460cfbc0",
   "metadata": {},
   "outputs": [],
   "source": [
    "X_train,X_test,y_train,y_test=train_test_split(X,y, test_size=0.2,random_state=42)"
   ]
  },
  {
   "cell_type": "code",
   "execution_count": 97,
   "id": "bd65632a",
   "metadata": {},
   "outputs": [
    {
     "data": {
      "text/plain": [
       "(3972, 5)"
      ]
     },
     "execution_count": 97,
     "metadata": {},
     "output_type": "execute_result"
    }
   ],
   "source": [
    "X_train.shape"
   ]
  },
  {
   "cell_type": "code",
   "execution_count": 98,
   "id": "a0a109d1",
   "metadata": {},
   "outputs": [
    {
     "data": {
      "text/plain": [
       "(994, 5)"
      ]
     },
     "execution_count": 98,
     "metadata": {},
     "output_type": "execute_result"
    }
   ],
   "source": [
    "X_test.shape"
   ]
  },
  {
   "cell_type": "code",
   "execution_count": 99,
   "id": "04d9b057",
   "metadata": {},
   "outputs": [
    {
     "data": {
      "text/plain": [
       "(994,)"
      ]
     },
     "execution_count": 99,
     "metadata": {},
     "output_type": "execute_result"
    }
   ],
   "source": [
    "y_test.shape"
   ]
  },
  {
   "cell_type": "code",
   "execution_count": 100,
   "id": "ad14d9e3",
   "metadata": {},
   "outputs": [
    {
     "data": {
      "text/plain": [
       "(3972,)"
      ]
     },
     "execution_count": 100,
     "metadata": {},
     "output_type": "execute_result"
    }
   ],
   "source": [
    "y_train.shape"
   ]
  },
  {
   "cell_type": "code",
   "execution_count": null,
   "id": "c2e89cb7",
   "metadata": {},
   "outputs": [],
   "source": [
    "# linear regression "
   ]
  },
  {
   "cell_type": "code",
   "execution_count": 101,
   "id": "52c7e983",
   "metadata": {},
   "outputs": [],
   "source": [
    "lr=LinearRegression()"
   ]
  },
  {
   "cell_type": "code",
   "execution_count": 102,
   "id": "051ae098",
   "metadata": {},
   "outputs": [
    {
     "data": {
      "text/html": [
       "<style>#sk-container-id-1 {color: black;background-color: white;}#sk-container-id-1 pre{padding: 0;}#sk-container-id-1 div.sk-toggleable {background-color: white;}#sk-container-id-1 label.sk-toggleable__label {cursor: pointer;display: block;width: 100%;margin-bottom: 0;padding: 0.3em;box-sizing: border-box;text-align: center;}#sk-container-id-1 label.sk-toggleable__label-arrow:before {content: \"▸\";float: left;margin-right: 0.25em;color: #696969;}#sk-container-id-1 label.sk-toggleable__label-arrow:hover:before {color: black;}#sk-container-id-1 div.sk-estimator:hover label.sk-toggleable__label-arrow:before {color: black;}#sk-container-id-1 div.sk-toggleable__content {max-height: 0;max-width: 0;overflow: hidden;text-align: left;background-color: #f0f8ff;}#sk-container-id-1 div.sk-toggleable__content pre {margin: 0.2em;color: black;border-radius: 0.25em;background-color: #f0f8ff;}#sk-container-id-1 input.sk-toggleable__control:checked~div.sk-toggleable__content {max-height: 200px;max-width: 100%;overflow: auto;}#sk-container-id-1 input.sk-toggleable__control:checked~label.sk-toggleable__label-arrow:before {content: \"▾\";}#sk-container-id-1 div.sk-estimator input.sk-toggleable__control:checked~label.sk-toggleable__label {background-color: #d4ebff;}#sk-container-id-1 div.sk-label input.sk-toggleable__control:checked~label.sk-toggleable__label {background-color: #d4ebff;}#sk-container-id-1 input.sk-hidden--visually {border: 0;clip: rect(1px 1px 1px 1px);clip: rect(1px, 1px, 1px, 1px);height: 1px;margin: -1px;overflow: hidden;padding: 0;position: absolute;width: 1px;}#sk-container-id-1 div.sk-estimator {font-family: monospace;background-color: #f0f8ff;border: 1px dotted black;border-radius: 0.25em;box-sizing: border-box;margin-bottom: 0.5em;}#sk-container-id-1 div.sk-estimator:hover {background-color: #d4ebff;}#sk-container-id-1 div.sk-parallel-item::after {content: \"\";width: 100%;border-bottom: 1px solid gray;flex-grow: 1;}#sk-container-id-1 div.sk-label:hover label.sk-toggleable__label {background-color: #d4ebff;}#sk-container-id-1 div.sk-serial::before {content: \"\";position: absolute;border-left: 1px solid gray;box-sizing: border-box;top: 0;bottom: 0;left: 50%;z-index: 0;}#sk-container-id-1 div.sk-serial {display: flex;flex-direction: column;align-items: center;background-color: white;padding-right: 0.2em;padding-left: 0.2em;position: relative;}#sk-container-id-1 div.sk-item {position: relative;z-index: 1;}#sk-container-id-1 div.sk-parallel {display: flex;align-items: stretch;justify-content: center;background-color: white;position: relative;}#sk-container-id-1 div.sk-item::before, #sk-container-id-1 div.sk-parallel-item::before {content: \"\";position: absolute;border-left: 1px solid gray;box-sizing: border-box;top: 0;bottom: 0;left: 50%;z-index: -1;}#sk-container-id-1 div.sk-parallel-item {display: flex;flex-direction: column;z-index: 1;position: relative;background-color: white;}#sk-container-id-1 div.sk-parallel-item:first-child::after {align-self: flex-end;width: 50%;}#sk-container-id-1 div.sk-parallel-item:last-child::after {align-self: flex-start;width: 50%;}#sk-container-id-1 div.sk-parallel-item:only-child::after {width: 0;}#sk-container-id-1 div.sk-dashed-wrapped {border: 1px dashed gray;margin: 0 0.4em 0.5em 0.4em;box-sizing: border-box;padding-bottom: 0.4em;background-color: white;}#sk-container-id-1 div.sk-label label {font-family: monospace;font-weight: bold;display: inline-block;line-height: 1.2em;}#sk-container-id-1 div.sk-label-container {text-align: center;}#sk-container-id-1 div.sk-container {/* jupyter's `normalize.less` sets `[hidden] { display: none; }` but bootstrap.min.css set `[hidden] { display: none !important; }` so we also need the `!important` here to be able to override the default hidden behavior on the sphinx rendered scikit-learn.org. See: https://github.com/scikit-learn/scikit-learn/issues/21755 */display: inline-block !important;position: relative;}#sk-container-id-1 div.sk-text-repr-fallback {display: none;}</style><div id=\"sk-container-id-1\" class=\"sk-top-container\"><div class=\"sk-text-repr-fallback\"><pre>LinearRegression()</pre><b>In a Jupyter environment, please rerun this cell to show the HTML representation or trust the notebook. <br />On GitHub, the HTML representation is unable to render, please try loading this page with nbviewer.org.</b></div><div class=\"sk-container\" hidden><div class=\"sk-item\"><div class=\"sk-estimator sk-toggleable\"><input class=\"sk-toggleable__control sk-hidden--visually\" id=\"sk-estimator-id-1\" type=\"checkbox\" checked><label for=\"sk-estimator-id-1\" class=\"sk-toggleable__label sk-toggleable__label-arrow\">LinearRegression</label><div class=\"sk-toggleable__content\"><pre>LinearRegression()</pre></div></div></div></div></div>"
      ],
      "text/plain": [
       "LinearRegression()"
      ]
     },
     "execution_count": 102,
     "metadata": {},
     "output_type": "execute_result"
    }
   ],
   "source": [
    "lr.fit(X_train,y_train)"
   ]
  },
  {
   "cell_type": "code",
   "execution_count": 104,
   "id": "b53a29a0",
   "metadata": {},
   "outputs": [
    {
     "name": "stdout",
     "output_type": "stream",
     "text": [
      "training accuracy : 92%\n",
      "test accuracy : 92%\n"
     ]
    }
   ],
   "source": [
    "print(f'training accuracy : { round(lr.score(X_train,y_train)*100)}%')\n",
    "print(f'test accuracy : { round(lr.score(X_test,y_test)*100)}%')"
   ]
  },
  {
   "cell_type": "code",
   "execution_count": 105,
   "id": "f257674a",
   "metadata": {},
   "outputs": [],
   "source": [
    "# decision tree "
   ]
  },
  {
   "cell_type": "code",
   "execution_count": 106,
   "id": "edb39d43",
   "metadata": {},
   "outputs": [
    {
     "data": {
      "text/html": [
       "<style>#sk-container-id-2 {color: black;background-color: white;}#sk-container-id-2 pre{padding: 0;}#sk-container-id-2 div.sk-toggleable {background-color: white;}#sk-container-id-2 label.sk-toggleable__label {cursor: pointer;display: block;width: 100%;margin-bottom: 0;padding: 0.3em;box-sizing: border-box;text-align: center;}#sk-container-id-2 label.sk-toggleable__label-arrow:before {content: \"▸\";float: left;margin-right: 0.25em;color: #696969;}#sk-container-id-2 label.sk-toggleable__label-arrow:hover:before {color: black;}#sk-container-id-2 div.sk-estimator:hover label.sk-toggleable__label-arrow:before {color: black;}#sk-container-id-2 div.sk-toggleable__content {max-height: 0;max-width: 0;overflow: hidden;text-align: left;background-color: #f0f8ff;}#sk-container-id-2 div.sk-toggleable__content pre {margin: 0.2em;color: black;border-radius: 0.25em;background-color: #f0f8ff;}#sk-container-id-2 input.sk-toggleable__control:checked~div.sk-toggleable__content {max-height: 200px;max-width: 100%;overflow: auto;}#sk-container-id-2 input.sk-toggleable__control:checked~label.sk-toggleable__label-arrow:before {content: \"▾\";}#sk-container-id-2 div.sk-estimator input.sk-toggleable__control:checked~label.sk-toggleable__label {background-color: #d4ebff;}#sk-container-id-2 div.sk-label input.sk-toggleable__control:checked~label.sk-toggleable__label {background-color: #d4ebff;}#sk-container-id-2 input.sk-hidden--visually {border: 0;clip: rect(1px 1px 1px 1px);clip: rect(1px, 1px, 1px, 1px);height: 1px;margin: -1px;overflow: hidden;padding: 0;position: absolute;width: 1px;}#sk-container-id-2 div.sk-estimator {font-family: monospace;background-color: #f0f8ff;border: 1px dotted black;border-radius: 0.25em;box-sizing: border-box;margin-bottom: 0.5em;}#sk-container-id-2 div.sk-estimator:hover {background-color: #d4ebff;}#sk-container-id-2 div.sk-parallel-item::after {content: \"\";width: 100%;border-bottom: 1px solid gray;flex-grow: 1;}#sk-container-id-2 div.sk-label:hover label.sk-toggleable__label {background-color: #d4ebff;}#sk-container-id-2 div.sk-serial::before {content: \"\";position: absolute;border-left: 1px solid gray;box-sizing: border-box;top: 0;bottom: 0;left: 50%;z-index: 0;}#sk-container-id-2 div.sk-serial {display: flex;flex-direction: column;align-items: center;background-color: white;padding-right: 0.2em;padding-left: 0.2em;position: relative;}#sk-container-id-2 div.sk-item {position: relative;z-index: 1;}#sk-container-id-2 div.sk-parallel {display: flex;align-items: stretch;justify-content: center;background-color: white;position: relative;}#sk-container-id-2 div.sk-item::before, #sk-container-id-2 div.sk-parallel-item::before {content: \"\";position: absolute;border-left: 1px solid gray;box-sizing: border-box;top: 0;bottom: 0;left: 50%;z-index: -1;}#sk-container-id-2 div.sk-parallel-item {display: flex;flex-direction: column;z-index: 1;position: relative;background-color: white;}#sk-container-id-2 div.sk-parallel-item:first-child::after {align-self: flex-end;width: 50%;}#sk-container-id-2 div.sk-parallel-item:last-child::after {align-self: flex-start;width: 50%;}#sk-container-id-2 div.sk-parallel-item:only-child::after {width: 0;}#sk-container-id-2 div.sk-dashed-wrapped {border: 1px dashed gray;margin: 0 0.4em 0.5em 0.4em;box-sizing: border-box;padding-bottom: 0.4em;background-color: white;}#sk-container-id-2 div.sk-label label {font-family: monospace;font-weight: bold;display: inline-block;line-height: 1.2em;}#sk-container-id-2 div.sk-label-container {text-align: center;}#sk-container-id-2 div.sk-container {/* jupyter's `normalize.less` sets `[hidden] { display: none; }` but bootstrap.min.css set `[hidden] { display: none !important; }` so we also need the `!important` here to be able to override the default hidden behavior on the sphinx rendered scikit-learn.org. See: https://github.com/scikit-learn/scikit-learn/issues/21755 */display: inline-block !important;position: relative;}#sk-container-id-2 div.sk-text-repr-fallback {display: none;}</style><div id=\"sk-container-id-2\" class=\"sk-top-container\"><div class=\"sk-text-repr-fallback\"><pre>DecisionTreeRegressor(max_depth=9)</pre><b>In a Jupyter environment, please rerun this cell to show the HTML representation or trust the notebook. <br />On GitHub, the HTML representation is unable to render, please try loading this page with nbviewer.org.</b></div><div class=\"sk-container\" hidden><div class=\"sk-item\"><div class=\"sk-estimator sk-toggleable\"><input class=\"sk-toggleable__control sk-hidden--visually\" id=\"sk-estimator-id-2\" type=\"checkbox\" checked><label for=\"sk-estimator-id-2\" class=\"sk-toggleable__label sk-toggleable__label-arrow\">DecisionTreeRegressor</label><div class=\"sk-toggleable__content\"><pre>DecisionTreeRegressor(max_depth=9)</pre></div></div></div></div></div>"
      ],
      "text/plain": [
       "DecisionTreeRegressor(max_depth=9)"
      ]
     },
     "execution_count": 106,
     "metadata": {},
     "output_type": "execute_result"
    }
   ],
   "source": [
    "dt=DecisionTreeRegressor(max_depth=9)\n",
    "dt.fit(X_train,y_train)"
   ]
  },
  {
   "cell_type": "code",
   "execution_count": 107,
   "id": "f4a2d23c",
   "metadata": {},
   "outputs": [
    {
     "name": "stdout",
     "output_type": "stream",
     "text": [
      "training accuracy : 92%\n",
      "test accuracy : 78%\n"
     ]
    }
   ],
   "source": [
    "print(f'training accuracy : { round(dt.score(X_train,y_train)*100)}%')\n",
    "print(f'test accuracy : { round(dt.score(X_test,y_test)*100)}%')"
   ]
  },
  {
   "cell_type": "code",
   "execution_count": 108,
   "id": "296306c9",
   "metadata": {},
   "outputs": [],
   "source": [
    "# gradient boosting regressor "
   ]
  },
  {
   "cell_type": "code",
   "execution_count": 111,
   "id": "45bc9bcf",
   "metadata": {},
   "outputs": [
    {
     "data": {
      "text/html": [
       "<style>#sk-container-id-3 {color: black;background-color: white;}#sk-container-id-3 pre{padding: 0;}#sk-container-id-3 div.sk-toggleable {background-color: white;}#sk-container-id-3 label.sk-toggleable__label {cursor: pointer;display: block;width: 100%;margin-bottom: 0;padding: 0.3em;box-sizing: border-box;text-align: center;}#sk-container-id-3 label.sk-toggleable__label-arrow:before {content: \"▸\";float: left;margin-right: 0.25em;color: #696969;}#sk-container-id-3 label.sk-toggleable__label-arrow:hover:before {color: black;}#sk-container-id-3 div.sk-estimator:hover label.sk-toggleable__label-arrow:before {color: black;}#sk-container-id-3 div.sk-toggleable__content {max-height: 0;max-width: 0;overflow: hidden;text-align: left;background-color: #f0f8ff;}#sk-container-id-3 div.sk-toggleable__content pre {margin: 0.2em;color: black;border-radius: 0.25em;background-color: #f0f8ff;}#sk-container-id-3 input.sk-toggleable__control:checked~div.sk-toggleable__content {max-height: 200px;max-width: 100%;overflow: auto;}#sk-container-id-3 input.sk-toggleable__control:checked~label.sk-toggleable__label-arrow:before {content: \"▾\";}#sk-container-id-3 div.sk-estimator input.sk-toggleable__control:checked~label.sk-toggleable__label {background-color: #d4ebff;}#sk-container-id-3 div.sk-label input.sk-toggleable__control:checked~label.sk-toggleable__label {background-color: #d4ebff;}#sk-container-id-3 input.sk-hidden--visually {border: 0;clip: rect(1px 1px 1px 1px);clip: rect(1px, 1px, 1px, 1px);height: 1px;margin: -1px;overflow: hidden;padding: 0;position: absolute;width: 1px;}#sk-container-id-3 div.sk-estimator {font-family: monospace;background-color: #f0f8ff;border: 1px dotted black;border-radius: 0.25em;box-sizing: border-box;margin-bottom: 0.5em;}#sk-container-id-3 div.sk-estimator:hover {background-color: #d4ebff;}#sk-container-id-3 div.sk-parallel-item::after {content: \"\";width: 100%;border-bottom: 1px solid gray;flex-grow: 1;}#sk-container-id-3 div.sk-label:hover label.sk-toggleable__label {background-color: #d4ebff;}#sk-container-id-3 div.sk-serial::before {content: \"\";position: absolute;border-left: 1px solid gray;box-sizing: border-box;top: 0;bottom: 0;left: 50%;z-index: 0;}#sk-container-id-3 div.sk-serial {display: flex;flex-direction: column;align-items: center;background-color: white;padding-right: 0.2em;padding-left: 0.2em;position: relative;}#sk-container-id-3 div.sk-item {position: relative;z-index: 1;}#sk-container-id-3 div.sk-parallel {display: flex;align-items: stretch;justify-content: center;background-color: white;position: relative;}#sk-container-id-3 div.sk-item::before, #sk-container-id-3 div.sk-parallel-item::before {content: \"\";position: absolute;border-left: 1px solid gray;box-sizing: border-box;top: 0;bottom: 0;left: 50%;z-index: -1;}#sk-container-id-3 div.sk-parallel-item {display: flex;flex-direction: column;z-index: 1;position: relative;background-color: white;}#sk-container-id-3 div.sk-parallel-item:first-child::after {align-self: flex-end;width: 50%;}#sk-container-id-3 div.sk-parallel-item:last-child::after {align-self: flex-start;width: 50%;}#sk-container-id-3 div.sk-parallel-item:only-child::after {width: 0;}#sk-container-id-3 div.sk-dashed-wrapped {border: 1px dashed gray;margin: 0 0.4em 0.5em 0.4em;box-sizing: border-box;padding-bottom: 0.4em;background-color: white;}#sk-container-id-3 div.sk-label label {font-family: monospace;font-weight: bold;display: inline-block;line-height: 1.2em;}#sk-container-id-3 div.sk-label-container {text-align: center;}#sk-container-id-3 div.sk-container {/* jupyter's `normalize.less` sets `[hidden] { display: none; }` but bootstrap.min.css set `[hidden] { display: none !important; }` so we also need the `!important` here to be able to override the default hidden behavior on the sphinx rendered scikit-learn.org. See: https://github.com/scikit-learn/scikit-learn/issues/21755 */display: inline-block !important;position: relative;}#sk-container-id-3 div.sk-text-repr-fallback {display: none;}</style><div id=\"sk-container-id-3\" class=\"sk-top-container\"><div class=\"sk-text-repr-fallback\"><pre>GradientBoostingRegressor()</pre><b>In a Jupyter environment, please rerun this cell to show the HTML representation or trust the notebook. <br />On GitHub, the HTML representation is unable to render, please try loading this page with nbviewer.org.</b></div><div class=\"sk-container\" hidden><div class=\"sk-item\"><div class=\"sk-estimator sk-toggleable\"><input class=\"sk-toggleable__control sk-hidden--visually\" id=\"sk-estimator-id-3\" type=\"checkbox\" checked><label for=\"sk-estimator-id-3\" class=\"sk-toggleable__label sk-toggleable__label-arrow\">GradientBoostingRegressor</label><div class=\"sk-toggleable__content\"><pre>GradientBoostingRegressor()</pre></div></div></div></div></div>"
      ],
      "text/plain": [
       "GradientBoostingRegressor()"
      ]
     },
     "execution_count": 111,
     "metadata": {},
     "output_type": "execute_result"
    }
   ],
   "source": [
    "gb=GradientBoostingRegressor()\n",
    "gb.fit(X_train,y_train)"
   ]
  },
  {
   "cell_type": "code",
   "execution_count": 113,
   "id": "4d42cb72",
   "metadata": {},
   "outputs": [
    {
     "name": "stdout",
     "output_type": "stream",
     "text": [
      "training accuracy : 93%\n",
      "test accuracy : 91%\n"
     ]
    }
   ],
   "source": [
    "print(f'training accuracy : { round(gb.score(X_train,y_train)*100)}%')\n",
    "print(f'test accuracy : { round(gb.score(X_test,y_test)*100)}%')"
   ]
  },
  {
   "cell_type": "markdown",
   "id": "338013c0",
   "metadata": {},
   "source": [
    "# model training "
   ]
  },
  {
   "cell_type": "code",
   "execution_count": 114,
   "id": "1b27e349",
   "metadata": {},
   "outputs": [],
   "source": [
    "y_train_pred=lr.predict(X_train)\n",
    "y_test_pred=lr.predict(X_test)"
   ]
  },
  {
   "cell_type": "code",
   "execution_count": 115,
   "id": "bb05912d",
   "metadata": {},
   "outputs": [
    {
     "data": {
      "text/html": [
       "<div>\n",
       "<style scoped>\n",
       "    .dataframe tbody tr th:only-of-type {\n",
       "        vertical-align: middle;\n",
       "    }\n",
       "\n",
       "    .dataframe tbody tr th {\n",
       "        vertical-align: top;\n",
       "    }\n",
       "\n",
       "    .dataframe thead th {\n",
       "        text-align: right;\n",
       "    }\n",
       "</style>\n",
       "<table border=\"1\" class=\"dataframe\">\n",
       "  <thead>\n",
       "    <tr style=\"text-align: right;\">\n",
       "      <th></th>\n",
       "      <th>Avg. Area Income</th>\n",
       "      <th>Avg. Area House Age</th>\n",
       "      <th>Avg. Area Number of Rooms</th>\n",
       "      <th>Avg. Area Number of Bedrooms</th>\n",
       "      <th>Area Population</th>\n",
       "    </tr>\n",
       "  </thead>\n",
       "  <tbody>\n",
       "    <tr>\n",
       "      <th>2502</th>\n",
       "      <td>55306.141974</td>\n",
       "      <td>6.125857</td>\n",
       "      <td>6.410318</td>\n",
       "      <td>4.06</td>\n",
       "      <td>32142.947348</td>\n",
       "    </tr>\n",
       "    <tr>\n",
       "      <th>2770</th>\n",
       "      <td>84802.787605</td>\n",
       "      <td>5.101614</td>\n",
       "      <td>7.844812</td>\n",
       "      <td>6.04</td>\n",
       "      <td>35748.331474</td>\n",
       "    </tr>\n",
       "    <tr>\n",
       "      <th>2521</th>\n",
       "      <td>61909.041438</td>\n",
       "      <td>6.228343</td>\n",
       "      <td>6.593138</td>\n",
       "      <td>4.29</td>\n",
       "      <td>28953.925377</td>\n",
       "    </tr>\n",
       "  </tbody>\n",
       "</table>\n",
       "</div>"
      ],
      "text/plain": [
       "      Avg. Area Income  Avg. Area House Age  Avg. Area Number of Rooms  \\\n",
       "2502      55306.141974             6.125857                   6.410318   \n",
       "2770      84802.787605             5.101614                   7.844812   \n",
       "2521      61909.041438             6.228343                   6.593138   \n",
       "\n",
       "      Avg. Area Number of Bedrooms  Area Population  \n",
       "2502                          4.06     32142.947348  \n",
       "2770                          6.04     35748.331474  \n",
       "2521                          4.29     28953.925377  "
      ]
     },
     "execution_count": 115,
     "metadata": {},
     "output_type": "execute_result"
    }
   ],
   "source": [
    "X_train[:3]"
   ]
  },
  {
   "cell_type": "code",
   "execution_count": 116,
   "id": "41d601dc",
   "metadata": {},
   "outputs": [
    {
     "data": {
      "text/plain": [
       "2502    6.479827e+05\n",
       "2770    1.437984e+06\n",
       "2521    1.063964e+06\n",
       "Name: Price, dtype: float64"
      ]
     },
     "execution_count": 116,
     "metadata": {},
     "output_type": "execute_result"
    }
   ],
   "source": [
    "y_train[:3]"
   ]
  },
  {
   "cell_type": "code",
   "execution_count": 117,
   "id": "dcf5fac8",
   "metadata": {},
   "outputs": [
    {
     "data": {
      "text/plain": [
       "array([ 838521.68881121, 1537885.93430884,  972616.39243308])"
      ]
     },
     "execution_count": 117,
     "metadata": {},
     "output_type": "execute_result"
    }
   ],
   "source": [
    "y_train_pred[:3]"
   ]
  },
  {
   "cell_type": "markdown",
   "id": "8657de58",
   "metadata": {},
   "source": [
    "# slopes /coefficients "
   ]
  },
  {
   "cell_type": "code",
   "execution_count": 118,
   "id": "9e2a0ecf",
   "metadata": {},
   "outputs": [
    {
     "data": {
      "text/plain": [
       "Index(['Avg. Area Income', 'Avg. Area House Age', 'Avg. Area Number of Rooms',\n",
       "       'Avg. Area Number of Bedrooms', 'Area Population'],\n",
       "      dtype='object')"
      ]
     },
     "execution_count": 118,
     "metadata": {},
     "output_type": "execute_result"
    }
   ],
   "source": [
    "X.columns"
   ]
  },
  {
   "cell_type": "code",
   "execution_count": 119,
   "id": "48db1768",
   "metadata": {},
   "outputs": [
    {
     "data": {
      "text/plain": [
       "array([2.16406066e+01, 1.66104091e+05, 1.20673492e+05, 1.75557397e+03,\n",
       "       1.51408551e+01])"
      ]
     },
     "execution_count": 119,
     "metadata": {},
     "output_type": "execute_result"
    }
   ],
   "source": [
    "lr.coef_"
   ]
  },
  {
   "cell_type": "code",
   "execution_count": 124,
   "id": "29757f24",
   "metadata": {},
   "outputs": [
    {
     "data": {
      "text/html": [
       "<div>\n",
       "<style scoped>\n",
       "    .dataframe tbody tr th:only-of-type {\n",
       "        vertical-align: middle;\n",
       "    }\n",
       "\n",
       "    .dataframe tbody tr th {\n",
       "        vertical-align: top;\n",
       "    }\n",
       "\n",
       "    .dataframe thead th {\n",
       "        text-align: right;\n",
       "    }\n",
       "</style>\n",
       "<table border=\"1\" class=\"dataframe\">\n",
       "  <thead>\n",
       "    <tr style=\"text-align: right;\">\n",
       "      <th></th>\n",
       "      <th>Coefficients</th>\n",
       "    </tr>\n",
       "  </thead>\n",
       "  <tbody>\n",
       "    <tr>\n",
       "      <th>Avg. Area Income</th>\n",
       "      <td>21.640607</td>\n",
       "    </tr>\n",
       "    <tr>\n",
       "      <th>Avg. Area House Age</th>\n",
       "      <td>166104.090506</td>\n",
       "    </tr>\n",
       "    <tr>\n",
       "      <th>Avg. Area Number of Rooms</th>\n",
       "      <td>120673.492264</td>\n",
       "    </tr>\n",
       "    <tr>\n",
       "      <th>Avg. Area Number of Bedrooms</th>\n",
       "      <td>1755.573974</td>\n",
       "    </tr>\n",
       "    <tr>\n",
       "      <th>Area Population</th>\n",
       "      <td>15.140855</td>\n",
       "    </tr>\n",
       "  </tbody>\n",
       "</table>\n",
       "</div>"
      ],
      "text/plain": [
       "                               Coefficients\n",
       "Avg. Area Income                  21.640607\n",
       "Avg. Area House Age           166104.090506\n",
       "Avg. Area Number of Rooms     120673.492264\n",
       "Avg. Area Number of Bedrooms    1755.573974\n",
       "Area Population                   15.140855"
      ]
     },
     "execution_count": 124,
     "metadata": {},
     "output_type": "execute_result"
    }
   ],
   "source": [
    "pd.DataFrame(lr.coef_, index=X.columns ,columns=['Coefficients'])"
   ]
  },
  {
   "cell_type": "markdown",
   "id": "48d1280e",
   "metadata": {},
   "source": [
    "# model evaluation "
   ]
  },
  {
   "cell_type": "code",
   "execution_count": 126,
   "id": "02cec805",
   "metadata": {},
   "outputs": [],
   "source": [
    "#training data \n"
   ]
  },
  {
   "cell_type": "code",
   "execution_count": 127,
   "id": "904062f6",
   "metadata": {},
   "outputs": [
    {
     "data": {
      "text/plain": [
       "10268623193.67436"
      ]
     },
     "execution_count": 127,
     "metadata": {},
     "output_type": "execute_result"
    }
   ],
   "source": [
    "mean_squared_error(y_train,y_train_pred)"
   ]
  },
  {
   "cell_type": "code",
   "execution_count": 128,
   "id": "ea4a80ee",
   "metadata": {},
   "outputs": [
    {
     "data": {
      "text/plain": [
       "101334.21531582686"
      ]
     },
     "execution_count": 128,
     "metadata": {},
     "output_type": "execute_result"
    }
   ],
   "source": [
    "np.sqrt(mean_squared_error(y_train,y_train_pred))"
   ]
  },
  {
   "cell_type": "code",
   "execution_count": 129,
   "id": "95303007",
   "metadata": {},
   "outputs": [
    {
     "data": {
      "text/plain": [
       "81605.20894176647"
      ]
     },
     "execution_count": 129,
     "metadata": {},
     "output_type": "execute_result"
    }
   ],
   "source": [
    "mean_absolute_error(y_train,y_train_pred)"
   ]
  },
  {
   "cell_type": "code",
   "execution_count": 131,
   "id": "d75957bf",
   "metadata": {},
   "outputs": [
    {
     "data": {
      "text/plain": [
       "0.9161466729297922"
      ]
     },
     "execution_count": 131,
     "metadata": {},
     "output_type": "execute_result"
    }
   ],
   "source": [
    "r2_score(y_train,y_train_pred)"
   ]
  },
  {
   "cell_type": "code",
   "execution_count": 138,
   "id": "2994b6b8",
   "metadata": {},
   "outputs": [],
   "source": [
    "def evaluation(actual,predicted):\n",
    "    mse=mean_squared_error(actual,predicted)\n",
    "    rmse=np.sqrt(mean_squared_error(actual,predicted))\n",
    "    mae=mean_absolute_error(actual,predicted)\n",
    "    r2=r2_score(actual,predicted)\n",
    "    \n",
    "    print(f'MSE : {mse}')\n",
    "    print(f'RMSE : {rmse}')\n",
    "    print(f'MAE : {mae}')\n",
    "    print(f'ACCURACY : {r2}')\n",
    "    \n",
    "    plt.scatter(actual,predicted , color='pink' , marker='o')\n",
    "    plt.plot([actual.min(),actual.max()],[actual.min(),actual.max()],\n",
    "             'lightblue',lw=3,ls='--')\n",
    "    plt.title('scatter plot ')\n",
    "    plt.xlabel('actual values ')\n",
    "    plt.ylabel('predicted values ')\n",
    "    plt.show()"
   ]
  },
  {
   "cell_type": "code",
   "execution_count": 139,
   "id": "4bccd82d",
   "metadata": {},
   "outputs": [
    {
     "name": "stdout",
     "output_type": "stream",
     "text": [
      "MSE : 10268623193.67436\n",
      "RMSE : 101334.21531582686\n",
      "MAE : 81605.20894176647\n",
      "ACCURACY : 0.9161466729297922\n"
     ]
    },
    {
     "data": {
      "image/png": "[encoded data removed]",
      "text/plain": [
       "<Figure size 640x480 with 1 Axes>"
      ]
     },
     "metadata": {},
     "output_type": "display_data"
    }
   ],
   "source": [
    "evaluation(y_train,y_train_pred)"
   ]
  },
  {
   "cell_type": "code",
   "execution_count": 135,
   "id": "11665af2",
   "metadata": {},
   "outputs": [],
   "source": [
    "#test data "
   ]
  },
  {
   "cell_type": "code",
   "execution_count": 140,
   "id": "eefea519",
   "metadata": {},
   "outputs": [
    {
     "name": "stdout",
     "output_type": "stream",
     "text": [
      "MSE : 9769360588.245775\n",
      "RMSE : 98840.07582072049\n",
      "MAE : 79388.31116422128\n",
      "ACCURACY : 0.9180015018430217\n"
     ]
    },
    {
     "data": {
      "image/png": "[encoded data removed]",
      "text/plain": [
       "<Figure size 640x480 with 1 Axes>"
      ]
     },
     "metadata": {},
     "output_type": "display_data"
    }
   ],
   "source": [
    "evaluation(y_test,y_test_pred)"
   ]
  },
  {
   "cell_type": "code",
   "execution_count": null,
   "id": "4652a57f",
   "metadata": {},
   "outputs": [],
   "source": []
  }
 ],
 "metadata": {
  "kernelspec": {
   "display_name": "Python 3 (ipykernel)",
   "language": "python",
   "name": "python3"
  },
  "language_info": {
   "codemirror_mode": {
    "name": "ipython",
    "version": 3
   },
   "file_extension": ".py",
   "mimetype": "text/x-python",
   "name": "python",
   "nbconvert_exporter": "python",
   "pygments_lexer": "ipython3",
   "version": "3.11.7"
  }
 },
 "nbformat": 4,
 "nbformat_minor": 5
}
